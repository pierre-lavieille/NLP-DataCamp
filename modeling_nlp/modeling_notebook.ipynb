{
  "nbformat": 4,
  "nbformat_minor": 0,
  "metadata": {
    "accelerator": "GPU",
    "colab": {
      "name": "push4.ipynb",
      "provenance": [],
      "collapsed_sections": []
    },
    "kernelspec": {
      "display_name": "Python 3",
      "language": "python",
      "name": "python3"
    },
    "language_info": {
      "codemirror_mode": {
        "name": "ipython",
        "version": 3
      },
      "file_extension": ".py",
      "mimetype": "text/x-python",
      "name": "python",
      "nbconvert_exporter": "python",
      "pygments_lexer": "ipython3",
      "version": "3.7.9"
    },
    "widgets": {
      "application/vnd.jupyter.widget-state+json": {
        "a76fca6c5a3043d4805dcc6114d81bb4": {
          "model_module": "@jupyter-widgets/controls",
          "model_name": "HBoxModel",
          "state": {
            "_view_name": "HBoxView",
            "_dom_classes": [],
            "_model_name": "HBoxModel",
            "_view_module": "@jupyter-widgets/controls",
            "_model_module_version": "1.5.0",
            "_view_count": null,
            "_view_module_version": "1.5.0",
            "box_style": "",
            "layout": "IPY_MODEL_fd40cf806a8948f3badbc1172e2d6879",
            "_model_module": "@jupyter-widgets/controls",
            "children": [
              "IPY_MODEL_4a8d57407bec42e590b33aac2d049c38",
              "IPY_MODEL_e75fa26b0ac141a29f837fd28d58f496"
            ]
          },
          "model_module_version": "1.5.0"
        },
        "fd40cf806a8948f3badbc1172e2d6879": {
          "model_module": "@jupyter-widgets/base",
          "model_name": "LayoutModel",
          "state": {
            "_view_name": "LayoutView",
            "grid_template_rows": null,
            "right": null,
            "justify_content": null,
            "_view_module": "@jupyter-widgets/base",
            "overflow": null,
            "_model_module_version": "1.2.0",
            "_view_count": null,
            "flex_flow": null,
            "width": null,
            "min_width": null,
            "border": null,
            "align_items": null,
            "bottom": null,
            "_model_module": "@jupyter-widgets/base",
            "top": null,
            "grid_column": null,
            "overflow_y": null,
            "overflow_x": null,
            "grid_auto_flow": null,
            "grid_area": null,
            "grid_template_columns": null,
            "flex": null,
            "_model_name": "LayoutModel",
            "justify_items": null,
            "grid_row": null,
            "max_height": null,
            "align_content": null,
            "visibility": null,
            "align_self": null,
            "height": null,
            "min_height": null,
            "padding": null,
            "grid_auto_rows": null,
            "grid_gap": null,
            "max_width": null,
            "order": null,
            "_view_module_version": "1.2.0",
            "grid_template_areas": null,
            "object_position": null,
            "object_fit": null,
            "grid_auto_columns": null,
            "margin": null,
            "display": null,
            "left": null
          },
          "model_module_version": "1.2.0"
        },
        "4a8d57407bec42e590b33aac2d049c38": {
          "model_module": "@jupyter-widgets/controls",
          "model_name": "FloatProgressModel",
          "state": {
            "_view_name": "ProgressView",
            "style": "IPY_MODEL_7512ef18c8a744ffb037eb22c7ab5e8b",
            "_dom_classes": [],
            "description": "",
            "_model_name": "FloatProgressModel",
            "bar_style": "success",
            "max": 1,
            "_view_module": "@jupyter-widgets/controls",
            "_model_module_version": "1.5.0",
            "value": 0,
            "_view_count": null,
            "_view_module_version": "1.5.0",
            "orientation": "horizontal",
            "min": 0,
            "description_tooltip": null,
            "_model_module": "@jupyter-widgets/controls",
            "layout": "IPY_MODEL_70605a804f8a4855bc678b1698ce488d"
          },
          "model_module_version": "1.5.0"
        },
        "e75fa26b0ac141a29f837fd28d58f496": {
          "model_module": "@jupyter-widgets/controls",
          "model_name": "HTMLModel",
          "state": {
            "_view_name": "HTMLView",
            "style": "IPY_MODEL_fdb5cb372f26409b8d75cce20576941a",
            "_dom_classes": [],
            "description": "",
            "_model_name": "HTMLModel",
            "placeholder": "​",
            "_view_module": "@jupyter-widgets/controls",
            "_model_module_version": "1.5.0",
            "value": " 0/? [00:00&lt;?, ?it/s]",
            "_view_count": null,
            "_view_module_version": "1.5.0",
            "description_tooltip": null,
            "_model_module": "@jupyter-widgets/controls",
            "layout": "IPY_MODEL_9afe77a1f7e5469c8edbc2328d173f45"
          },
          "model_module_version": "1.5.0"
        },
        "7512ef18c8a744ffb037eb22c7ab5e8b": {
          "model_module": "@jupyter-widgets/controls",
          "model_name": "ProgressStyleModel",
          "state": {
            "_view_name": "StyleView",
            "_model_name": "ProgressStyleModel",
            "description_width": "initial",
            "_view_module": "@jupyter-widgets/base",
            "_model_module_version": "1.5.0",
            "_view_count": null,
            "_view_module_version": "1.2.0",
            "bar_color": null,
            "_model_module": "@jupyter-widgets/controls"
          },
          "model_module_version": "1.5.0"
        },
        "70605a804f8a4855bc678b1698ce488d": {
          "model_module": "@jupyter-widgets/base",
          "model_name": "LayoutModel",
          "state": {
            "_view_name": "LayoutView",
            "grid_template_rows": null,
            "right": null,
            "justify_content": null,
            "_view_module": "@jupyter-widgets/base",
            "overflow": null,
            "_model_module_version": "1.2.0",
            "_view_count": null,
            "flex_flow": null,
            "width": null,
            "min_width": null,
            "border": null,
            "align_items": null,
            "bottom": null,
            "_model_module": "@jupyter-widgets/base",
            "top": null,
            "grid_column": null,
            "overflow_y": null,
            "overflow_x": null,
            "grid_auto_flow": null,
            "grid_area": null,
            "grid_template_columns": null,
            "flex": null,
            "_model_name": "LayoutModel",
            "justify_items": null,
            "grid_row": null,
            "max_height": null,
            "align_content": null,
            "visibility": null,
            "align_self": null,
            "height": null,
            "min_height": null,
            "padding": null,
            "grid_auto_rows": null,
            "grid_gap": null,
            "max_width": null,
            "order": null,
            "_view_module_version": "1.2.0",
            "grid_template_areas": null,
            "object_position": null,
            "object_fit": null,
            "grid_auto_columns": null,
            "margin": null,
            "display": null,
            "left": null
          },
          "model_module_version": "1.2.0"
        },
        "fdb5cb372f26409b8d75cce20576941a": {
          "model_module": "@jupyter-widgets/controls",
          "model_name": "DescriptionStyleModel",
          "state": {
            "_view_name": "StyleView",
            "_model_name": "DescriptionStyleModel",
            "description_width": "",
            "_view_module": "@jupyter-widgets/base",
            "_model_module_version": "1.5.0",
            "_view_count": null,
            "_view_module_version": "1.2.0",
            "_model_module": "@jupyter-widgets/controls"
          },
          "model_module_version": "1.5.0"
        },
        "9afe77a1f7e5469c8edbc2328d173f45": {
          "model_module": "@jupyter-widgets/base",
          "model_name": "LayoutModel",
          "state": {
            "_view_name": "LayoutView",
            "grid_template_rows": null,
            "right": null,
            "justify_content": null,
            "_view_module": "@jupyter-widgets/base",
            "overflow": null,
            "_model_module_version": "1.2.0",
            "_view_count": null,
            "flex_flow": null,
            "width": null,
            "min_width": null,
            "border": null,
            "align_items": null,
            "bottom": null,
            "_model_module": "@jupyter-widgets/base",
            "top": null,
            "grid_column": null,
            "overflow_y": null,
            "overflow_x": null,
            "grid_auto_flow": null,
            "grid_area": null,
            "grid_template_columns": null,
            "flex": null,
            "_model_name": "LayoutModel",
            "justify_items": null,
            "grid_row": null,
            "max_height": null,
            "align_content": null,
            "visibility": null,
            "align_self": null,
            "height": null,
            "min_height": null,
            "padding": null,
            "grid_auto_rows": null,
            "grid_gap": null,
            "max_width": null,
            "order": null,
            "_view_module_version": "1.2.0",
            "grid_template_areas": null,
            "object_position": null,
            "object_fit": null,
            "grid_auto_columns": null,
            "margin": null,
            "display": null,
            "left": null
          },
          "model_module_version": "1.2.0"
        },
        "22839dddccac413a988927c5bd437ac3": {
          "model_module": "@jupyter-widgets/controls",
          "model_name": "HBoxModel",
          "state": {
            "_view_name": "HBoxView",
            "_dom_classes": [],
            "_model_name": "HBoxModel",
            "_view_module": "@jupyter-widgets/controls",
            "_model_module_version": "1.5.0",
            "_view_count": null,
            "_view_module_version": "1.5.0",
            "box_style": "",
            "layout": "IPY_MODEL_e2143cedfe7642b19c14ffb1d39607a3",
            "_model_module": "@jupyter-widgets/controls",
            "children": [
              "IPY_MODEL_09eb502ab0724b38b00b255ca857965c",
              "IPY_MODEL_bb9f5639812249f381f5322c10bf8f8e"
            ]
          },
          "model_module_version": "1.5.0"
        },
        "e2143cedfe7642b19c14ffb1d39607a3": {
          "model_module": "@jupyter-widgets/base",
          "model_name": "LayoutModel",
          "state": {
            "_view_name": "LayoutView",
            "grid_template_rows": null,
            "right": null,
            "justify_content": null,
            "_view_module": "@jupyter-widgets/base",
            "overflow": null,
            "_model_module_version": "1.2.0",
            "_view_count": null,
            "flex_flow": null,
            "width": null,
            "min_width": null,
            "border": null,
            "align_items": null,
            "bottom": null,
            "_model_module": "@jupyter-widgets/base",
            "top": null,
            "grid_column": null,
            "overflow_y": null,
            "overflow_x": null,
            "grid_auto_flow": null,
            "grid_area": null,
            "grid_template_columns": null,
            "flex": null,
            "_model_name": "LayoutModel",
            "justify_items": null,
            "grid_row": null,
            "max_height": null,
            "align_content": null,
            "visibility": null,
            "align_self": null,
            "height": null,
            "min_height": null,
            "padding": null,
            "grid_auto_rows": null,
            "grid_gap": null,
            "max_width": null,
            "order": null,
            "_view_module_version": "1.2.0",
            "grid_template_areas": null,
            "object_position": null,
            "object_fit": null,
            "grid_auto_columns": null,
            "margin": null,
            "display": null,
            "left": null
          },
          "model_module_version": "1.2.0"
        },
        "09eb502ab0724b38b00b255ca857965c": {
          "model_module": "@jupyter-widgets/controls",
          "model_name": "FloatProgressModel",
          "state": {
            "_view_name": "ProgressView",
            "style": "IPY_MODEL_5569fddd348542fdbcb6336ed1b42798",
            "_dom_classes": [],
            "description": "",
            "_model_name": "FloatProgressModel",
            "bar_style": "success",
            "max": 1,
            "_view_module": "@jupyter-widgets/controls",
            "_model_module_version": "1.5.0",
            "value": 0,
            "_view_count": null,
            "_view_module_version": "1.5.0",
            "orientation": "horizontal",
            "min": 0,
            "description_tooltip": null,
            "_model_module": "@jupyter-widgets/controls",
            "layout": "IPY_MODEL_1dd9017707b5416180e1f556b3727ffc"
          },
          "model_module_version": "1.5.0"
        },
        "bb9f5639812249f381f5322c10bf8f8e": {
          "model_module": "@jupyter-widgets/controls",
          "model_name": "HTMLModel",
          "state": {
            "_view_name": "HTMLView",
            "style": "IPY_MODEL_aa81e558798243cfa00dc4a76b5f658e",
            "_dom_classes": [],
            "description": "",
            "_model_name": "HTMLModel",
            "placeholder": "​",
            "_view_module": "@jupyter-widgets/controls",
            "_model_module_version": "1.5.0",
            "value": " 0/? [00:00&lt;?, ?it/s]",
            "_view_count": null,
            "_view_module_version": "1.5.0",
            "description_tooltip": null,
            "_model_module": "@jupyter-widgets/controls",
            "layout": "IPY_MODEL_967ca0480fe74b5082020bae366147fe"
          },
          "model_module_version": "1.5.0"
        },
        "5569fddd348542fdbcb6336ed1b42798": {
          "model_module": "@jupyter-widgets/controls",
          "model_name": "ProgressStyleModel",
          "state": {
            "_view_name": "StyleView",
            "_model_name": "ProgressStyleModel",
            "description_width": "initial",
            "_view_module": "@jupyter-widgets/base",
            "_model_module_version": "1.5.0",
            "_view_count": null,
            "_view_module_version": "1.2.0",
            "bar_color": null,
            "_model_module": "@jupyter-widgets/controls"
          },
          "model_module_version": "1.5.0"
        },
        "1dd9017707b5416180e1f556b3727ffc": {
          "model_module": "@jupyter-widgets/base",
          "model_name": "LayoutModel",
          "state": {
            "_view_name": "LayoutView",
            "grid_template_rows": null,
            "right": null,
            "justify_content": null,
            "_view_module": "@jupyter-widgets/base",
            "overflow": null,
            "_model_module_version": "1.2.0",
            "_view_count": null,
            "flex_flow": null,
            "width": null,
            "min_width": null,
            "border": null,
            "align_items": null,
            "bottom": null,
            "_model_module": "@jupyter-widgets/base",
            "top": null,
            "grid_column": null,
            "overflow_y": null,
            "overflow_x": null,
            "grid_auto_flow": null,
            "grid_area": null,
            "grid_template_columns": null,
            "flex": null,
            "_model_name": "LayoutModel",
            "justify_items": null,
            "grid_row": null,
            "max_height": null,
            "align_content": null,
            "visibility": null,
            "align_self": null,
            "height": null,
            "min_height": null,
            "padding": null,
            "grid_auto_rows": null,
            "grid_gap": null,
            "max_width": null,
            "order": null,
            "_view_module_version": "1.2.0",
            "grid_template_areas": null,
            "object_position": null,
            "object_fit": null,
            "grid_auto_columns": null,
            "margin": null,
            "display": null,
            "left": null
          },
          "model_module_version": "1.2.0"
        },
        "aa81e558798243cfa00dc4a76b5f658e": {
          "model_module": "@jupyter-widgets/controls",
          "model_name": "DescriptionStyleModel",
          "state": {
            "_view_name": "StyleView",
            "_model_name": "DescriptionStyleModel",
            "description_width": "",
            "_view_module": "@jupyter-widgets/base",
            "_model_module_version": "1.5.0",
            "_view_count": null,
            "_view_module_version": "1.2.0",
            "_model_module": "@jupyter-widgets/controls"
          },
          "model_module_version": "1.5.0"
        },
        "967ca0480fe74b5082020bae366147fe": {
          "model_module": "@jupyter-widgets/base",
          "model_name": "LayoutModel",
          "state": {
            "_view_name": "LayoutView",
            "grid_template_rows": null,
            "right": null,
            "justify_content": null,
            "_view_module": "@jupyter-widgets/base",
            "overflow": null,
            "_model_module_version": "1.2.0",
            "_view_count": null,
            "flex_flow": null,
            "width": null,
            "min_width": null,
            "border": null,
            "align_items": null,
            "bottom": null,
            "_model_module": "@jupyter-widgets/base",
            "top": null,
            "grid_column": null,
            "overflow_y": null,
            "overflow_x": null,
            "grid_auto_flow": null,
            "grid_area": null,
            "grid_template_columns": null,
            "flex": null,
            "_model_name": "LayoutModel",
            "justify_items": null,
            "grid_row": null,
            "max_height": null,
            "align_content": null,
            "visibility": null,
            "align_self": null,
            "height": null,
            "min_height": null,
            "padding": null,
            "grid_auto_rows": null,
            "grid_gap": null,
            "max_width": null,
            "order": null,
            "_view_module_version": "1.2.0",
            "grid_template_areas": null,
            "object_position": null,
            "object_fit": null,
            "grid_auto_columns": null,
            "margin": null,
            "display": null,
            "left": null
          },
          "model_module_version": "1.2.0"
        },
        "eca79feeeb7042a6a00d0f223625f33e": {
          "model_module": "@jupyter-widgets/controls",
          "model_name": "HBoxModel",
          "state": {
            "_view_name": "HBoxView",
            "_dom_classes": [],
            "_model_name": "HBoxModel",
            "_view_module": "@jupyter-widgets/controls",
            "_model_module_version": "1.5.0",
            "_view_count": null,
            "_view_module_version": "1.5.0",
            "box_style": "",
            "layout": "IPY_MODEL_84d9a216c7b24f5cb42b53873c11ba3c",
            "_model_module": "@jupyter-widgets/controls",
            "children": [
              "IPY_MODEL_d5953b720db24128b7225be2fcc5302a",
              "IPY_MODEL_48ca1a9a0c9d4d71826598e74cd7fac2"
            ]
          },
          "model_module_version": "1.5.0"
        },
        "84d9a216c7b24f5cb42b53873c11ba3c": {
          "model_module": "@jupyter-widgets/base",
          "model_name": "LayoutModel",
          "state": {
            "_view_name": "LayoutView",
            "grid_template_rows": null,
            "right": null,
            "justify_content": null,
            "_view_module": "@jupyter-widgets/base",
            "overflow": null,
            "_model_module_version": "1.2.0",
            "_view_count": null,
            "flex_flow": null,
            "width": null,
            "min_width": null,
            "border": null,
            "align_items": null,
            "bottom": null,
            "_model_module": "@jupyter-widgets/base",
            "top": null,
            "grid_column": null,
            "overflow_y": null,
            "overflow_x": null,
            "grid_auto_flow": null,
            "grid_area": null,
            "grid_template_columns": null,
            "flex": null,
            "_model_name": "LayoutModel",
            "justify_items": null,
            "grid_row": null,
            "max_height": null,
            "align_content": null,
            "visibility": null,
            "align_self": null,
            "height": null,
            "min_height": null,
            "padding": null,
            "grid_auto_rows": null,
            "grid_gap": null,
            "max_width": null,
            "order": null,
            "_view_module_version": "1.2.0",
            "grid_template_areas": null,
            "object_position": null,
            "object_fit": null,
            "grid_auto_columns": null,
            "margin": null,
            "display": null,
            "left": null
          },
          "model_module_version": "1.2.0"
        },
        "d5953b720db24128b7225be2fcc5302a": {
          "model_module": "@jupyter-widgets/controls",
          "model_name": "FloatProgressModel",
          "state": {
            "_view_name": "ProgressView",
            "style": "IPY_MODEL_3e6e2d31104e48d9962e663f367834c5",
            "_dom_classes": [],
            "description": "100%",
            "_model_name": "FloatProgressModel",
            "bar_style": "success",
            "max": 12866,
            "_view_module": "@jupyter-widgets/controls",
            "_model_module_version": "1.5.0",
            "value": 12866,
            "_view_count": null,
            "_view_module_version": "1.5.0",
            "orientation": "horizontal",
            "min": 0,
            "description_tooltip": null,
            "_model_module": "@jupyter-widgets/controls",
            "layout": "IPY_MODEL_0670a59351e341b9be4318d8810d8361"
          },
          "model_module_version": "1.5.0"
        },
        "48ca1a9a0c9d4d71826598e74cd7fac2": {
          "model_module": "@jupyter-widgets/controls",
          "model_name": "HTMLModel",
          "state": {
            "_view_name": "HTMLView",
            "style": "IPY_MODEL_f38644a496b7484fa5a6f1c93c2fbc97",
            "_dom_classes": [],
            "description": "",
            "_model_name": "HTMLModel",
            "placeholder": "​",
            "_view_module": "@jupyter-widgets/controls",
            "_model_module_version": "1.5.0",
            "value": " 12866/12866 [00:35&lt;00:00, 359.07it/s]",
            "_view_count": null,
            "_view_module_version": "1.5.0",
            "description_tooltip": null,
            "_model_module": "@jupyter-widgets/controls",
            "layout": "IPY_MODEL_df50fcd94a8a4aceab3ffdfaefe48049"
          },
          "model_module_version": "1.5.0"
        },
        "3e6e2d31104e48d9962e663f367834c5": {
          "model_module": "@jupyter-widgets/controls",
          "model_name": "ProgressStyleModel",
          "state": {
            "_view_name": "StyleView",
            "_model_name": "ProgressStyleModel",
            "description_width": "initial",
            "_view_module": "@jupyter-widgets/base",
            "_model_module_version": "1.5.0",
            "_view_count": null,
            "_view_module_version": "1.2.0",
            "bar_color": null,
            "_model_module": "@jupyter-widgets/controls"
          },
          "model_module_version": "1.5.0"
        },
        "0670a59351e341b9be4318d8810d8361": {
          "model_module": "@jupyter-widgets/base",
          "model_name": "LayoutModel",
          "state": {
            "_view_name": "LayoutView",
            "grid_template_rows": null,
            "right": null,
            "justify_content": null,
            "_view_module": "@jupyter-widgets/base",
            "overflow": null,
            "_model_module_version": "1.2.0",
            "_view_count": null,
            "flex_flow": null,
            "width": null,
            "min_width": null,
            "border": null,
            "align_items": null,
            "bottom": null,
            "_model_module": "@jupyter-widgets/base",
            "top": null,
            "grid_column": null,
            "overflow_y": null,
            "overflow_x": null,
            "grid_auto_flow": null,
            "grid_area": null,
            "grid_template_columns": null,
            "flex": null,
            "_model_name": "LayoutModel",
            "justify_items": null,
            "grid_row": null,
            "max_height": null,
            "align_content": null,
            "visibility": null,
            "align_self": null,
            "height": null,
            "min_height": null,
            "padding": null,
            "grid_auto_rows": null,
            "grid_gap": null,
            "max_width": null,
            "order": null,
            "_view_module_version": "1.2.0",
            "grid_template_areas": null,
            "object_position": null,
            "object_fit": null,
            "grid_auto_columns": null,
            "margin": null,
            "display": null,
            "left": null
          },
          "model_module_version": "1.2.0"
        },
        "f38644a496b7484fa5a6f1c93c2fbc97": {
          "model_module": "@jupyter-widgets/controls",
          "model_name": "DescriptionStyleModel",
          "state": {
            "_view_name": "StyleView",
            "_model_name": "DescriptionStyleModel",
            "description_width": "",
            "_view_module": "@jupyter-widgets/base",
            "_model_module_version": "1.5.0",
            "_view_count": null,
            "_view_module_version": "1.2.0",
            "_model_module": "@jupyter-widgets/controls"
          },
          "model_module_version": "1.5.0"
        },
        "df50fcd94a8a4aceab3ffdfaefe48049": {
          "model_module": "@jupyter-widgets/base",
          "model_name": "LayoutModel",
          "state": {
            "_view_name": "LayoutView",
            "grid_template_rows": null,
            "right": null,
            "justify_content": null,
            "_view_module": "@jupyter-widgets/base",
            "overflow": null,
            "_model_module_version": "1.2.0",
            "_view_count": null,
            "flex_flow": null,
            "width": null,
            "min_width": null,
            "border": null,
            "align_items": null,
            "bottom": null,
            "_model_module": "@jupyter-widgets/base",
            "top": null,
            "grid_column": null,
            "overflow_y": null,
            "overflow_x": null,
            "grid_auto_flow": null,
            "grid_area": null,
            "grid_template_columns": null,
            "flex": null,
            "_model_name": "LayoutModel",
            "justify_items": null,
            "grid_row": null,
            "max_height": null,
            "align_content": null,
            "visibility": null,
            "align_self": null,
            "height": null,
            "min_height": null,
            "padding": null,
            "grid_auto_rows": null,
            "grid_gap": null,
            "max_width": null,
            "order": null,
            "_view_module_version": "1.2.0",
            "grid_template_areas": null,
            "object_position": null,
            "object_fit": null,
            "grid_auto_columns": null,
            "margin": null,
            "display": null,
            "left": null
          },
          "model_module_version": "1.2.0"
        },
        "cf63e1a18a4d4c688659be11b7b31b9a": {
          "model_module": "@jupyter-widgets/controls",
          "model_name": "HBoxModel",
          "state": {
            "_view_name": "HBoxView",
            "_dom_classes": [],
            "_model_name": "HBoxModel",
            "_view_module": "@jupyter-widgets/controls",
            "_model_module_version": "1.5.0",
            "_view_count": null,
            "_view_module_version": "1.5.0",
            "box_style": "",
            "layout": "IPY_MODEL_9220fe09967742f0a0cbad91d83d3f1a",
            "_model_module": "@jupyter-widgets/controls",
            "children": [
              "IPY_MODEL_7f741df6746b4bdaaacbb827d7823f03",
              "IPY_MODEL_c4b5dcfdeb1145fabb044e40ea7cb81a"
            ]
          },
          "model_module_version": "1.5.0"
        },
        "9220fe09967742f0a0cbad91d83d3f1a": {
          "model_module": "@jupyter-widgets/base",
          "model_name": "LayoutModel",
          "state": {
            "_view_name": "LayoutView",
            "grid_template_rows": null,
            "right": null,
            "justify_content": null,
            "_view_module": "@jupyter-widgets/base",
            "overflow": null,
            "_model_module_version": "1.2.0",
            "_view_count": null,
            "flex_flow": null,
            "width": null,
            "min_width": null,
            "border": null,
            "align_items": null,
            "bottom": null,
            "_model_module": "@jupyter-widgets/base",
            "top": null,
            "grid_column": null,
            "overflow_y": null,
            "overflow_x": null,
            "grid_auto_flow": null,
            "grid_area": null,
            "grid_template_columns": null,
            "flex": null,
            "_model_name": "LayoutModel",
            "justify_items": null,
            "grid_row": null,
            "max_height": null,
            "align_content": null,
            "visibility": null,
            "align_self": null,
            "height": null,
            "min_height": null,
            "padding": null,
            "grid_auto_rows": null,
            "grid_gap": null,
            "max_width": null,
            "order": null,
            "_view_module_version": "1.2.0",
            "grid_template_areas": null,
            "object_position": null,
            "object_fit": null,
            "grid_auto_columns": null,
            "margin": null,
            "display": null,
            "left": null
          },
          "model_module_version": "1.2.0"
        },
        "7f741df6746b4bdaaacbb827d7823f03": {
          "model_module": "@jupyter-widgets/controls",
          "model_name": "FloatProgressModel",
          "state": {
            "_view_name": "ProgressView",
            "style": "IPY_MODEL_0b97878af68b419789a5965def005053",
            "_dom_classes": [],
            "description": "100%",
            "_model_name": "FloatProgressModel",
            "bar_style": "success",
            "max": 46458,
            "_view_module": "@jupyter-widgets/controls",
            "_model_module_version": "1.5.0",
            "value": 46458,
            "_view_count": null,
            "_view_module_version": "1.5.0",
            "orientation": "horizontal",
            "min": 0,
            "description_tooltip": null,
            "_model_module": "@jupyter-widgets/controls",
            "layout": "IPY_MODEL_f1927aca6eea4a60930a739fd513529d"
          },
          "model_module_version": "1.5.0"
        },
        "c4b5dcfdeb1145fabb044e40ea7cb81a": {
          "model_module": "@jupyter-widgets/controls",
          "model_name": "HTMLModel",
          "state": {
            "_view_name": "HTMLView",
            "style": "IPY_MODEL_40da6cfe9128435e924355635badbbf2",
            "_dom_classes": [],
            "description": "",
            "_model_name": "HTMLModel",
            "placeholder": "​",
            "_view_module": "@jupyter-widgets/controls",
            "_model_module_version": "1.5.0",
            "value": " 46458/46458 [02:54&lt;00:00, 266.84it/s]",
            "_view_count": null,
            "_view_module_version": "1.5.0",
            "description_tooltip": null,
            "_model_module": "@jupyter-widgets/controls",
            "layout": "IPY_MODEL_5589959cad2f4c3585d1f7532b7e090a"
          },
          "model_module_version": "1.5.0"
        },
        "0b97878af68b419789a5965def005053": {
          "model_module": "@jupyter-widgets/controls",
          "model_name": "ProgressStyleModel",
          "state": {
            "_view_name": "StyleView",
            "_model_name": "ProgressStyleModel",
            "description_width": "initial",
            "_view_module": "@jupyter-widgets/base",
            "_model_module_version": "1.5.0",
            "_view_count": null,
            "_view_module_version": "1.2.0",
            "bar_color": null,
            "_model_module": "@jupyter-widgets/controls"
          },
          "model_module_version": "1.5.0"
        },
        "f1927aca6eea4a60930a739fd513529d": {
          "model_module": "@jupyter-widgets/base",
          "model_name": "LayoutModel",
          "state": {
            "_view_name": "LayoutView",
            "grid_template_rows": null,
            "right": null,
            "justify_content": null,
            "_view_module": "@jupyter-widgets/base",
            "overflow": null,
            "_model_module_version": "1.2.0",
            "_view_count": null,
            "flex_flow": null,
            "width": null,
            "min_width": null,
            "border": null,
            "align_items": null,
            "bottom": null,
            "_model_module": "@jupyter-widgets/base",
            "top": null,
            "grid_column": null,
            "overflow_y": null,
            "overflow_x": null,
            "grid_auto_flow": null,
            "grid_area": null,
            "grid_template_columns": null,
            "flex": null,
            "_model_name": "LayoutModel",
            "justify_items": null,
            "grid_row": null,
            "max_height": null,
            "align_content": null,
            "visibility": null,
            "align_self": null,
            "height": null,
            "min_height": null,
            "padding": null,
            "grid_auto_rows": null,
            "grid_gap": null,
            "max_width": null,
            "order": null,
            "_view_module_version": "1.2.0",
            "grid_template_areas": null,
            "object_position": null,
            "object_fit": null,
            "grid_auto_columns": null,
            "margin": null,
            "display": null,
            "left": null
          },
          "model_module_version": "1.2.0"
        },
        "40da6cfe9128435e924355635badbbf2": {
          "model_module": "@jupyter-widgets/controls",
          "model_name": "DescriptionStyleModel",
          "state": {
            "_view_name": "StyleView",
            "_model_name": "DescriptionStyleModel",
            "description_width": "",
            "_view_module": "@jupyter-widgets/base",
            "_model_module_version": "1.5.0",
            "_view_count": null,
            "_view_module_version": "1.2.0",
            "_model_module": "@jupyter-widgets/controls"
          },
          "model_module_version": "1.5.0"
        },
        "5589959cad2f4c3585d1f7532b7e090a": {
          "model_module": "@jupyter-widgets/base",
          "model_name": "LayoutModel",
          "state": {
            "_view_name": "LayoutView",
            "grid_template_rows": null,
            "right": null,
            "justify_content": null,
            "_view_module": "@jupyter-widgets/base",
            "overflow": null,
            "_model_module_version": "1.2.0",
            "_view_count": null,
            "flex_flow": null,
            "width": null,
            "min_width": null,
            "border": null,
            "align_items": null,
            "bottom": null,
            "_model_module": "@jupyter-widgets/base",
            "top": null,
            "grid_column": null,
            "overflow_y": null,
            "overflow_x": null,
            "grid_auto_flow": null,
            "grid_area": null,
            "grid_template_columns": null,
            "flex": null,
            "_model_name": "LayoutModel",
            "justify_items": null,
            "grid_row": null,
            "max_height": null,
            "align_content": null,
            "visibility": null,
            "align_self": null,
            "height": null,
            "min_height": null,
            "padding": null,
            "grid_auto_rows": null,
            "grid_gap": null,
            "max_width": null,
            "order": null,
            "_view_module_version": "1.2.0",
            "grid_template_areas": null,
            "object_position": null,
            "object_fit": null,
            "grid_auto_columns": null,
            "margin": null,
            "display": null,
            "left": null
          },
          "model_module_version": "1.2.0"
        },
        "4422ee59d8a9411b937a258f7dd79c50": {
          "model_module": "@jupyter-widgets/controls",
          "model_name": "HBoxModel",
          "state": {
            "_view_name": "HBoxView",
            "_dom_classes": [],
            "_model_name": "HBoxModel",
            "_view_module": "@jupyter-widgets/controls",
            "_model_module_version": "1.5.0",
            "_view_count": null,
            "_view_module_version": "1.5.0",
            "box_style": "",
            "layout": "IPY_MODEL_34c062aa51444284b47c7b1ba7f1dec4",
            "_model_module": "@jupyter-widgets/controls",
            "children": [
              "IPY_MODEL_6938949f1fb14d97a664149107aa7464",
              "IPY_MODEL_ef51c287e027425c96f93da25c91fa3c"
            ]
          },
          "model_module_version": "1.5.0"
        },
        "34c062aa51444284b47c7b1ba7f1dec4": {
          "model_module": "@jupyter-widgets/base",
          "model_name": "LayoutModel",
          "state": {
            "_view_name": "LayoutView",
            "grid_template_rows": null,
            "right": null,
            "justify_content": null,
            "_view_module": "@jupyter-widgets/base",
            "overflow": null,
            "_model_module_version": "1.2.0",
            "_view_count": null,
            "flex_flow": null,
            "width": null,
            "min_width": null,
            "border": null,
            "align_items": null,
            "bottom": null,
            "_model_module": "@jupyter-widgets/base",
            "top": null,
            "grid_column": null,
            "overflow_y": null,
            "overflow_x": null,
            "grid_auto_flow": null,
            "grid_area": null,
            "grid_template_columns": null,
            "flex": null,
            "_model_name": "LayoutModel",
            "justify_items": null,
            "grid_row": null,
            "max_height": null,
            "align_content": null,
            "visibility": null,
            "align_self": null,
            "height": null,
            "min_height": null,
            "padding": null,
            "grid_auto_rows": null,
            "grid_gap": null,
            "max_width": null,
            "order": null,
            "_view_module_version": "1.2.0",
            "grid_template_areas": null,
            "object_position": null,
            "object_fit": null,
            "grid_auto_columns": null,
            "margin": null,
            "display": null,
            "left": null
          },
          "model_module_version": "1.2.0"
        },
        "6938949f1fb14d97a664149107aa7464": {
          "model_module": "@jupyter-widgets/controls",
          "model_name": "FloatProgressModel",
          "state": {
            "_view_name": "ProgressView",
            "style": "IPY_MODEL_bf1e4a2d454d454eaf82c4b1f8dc5316",
            "_dom_classes": [],
            "description": "100%",
            "_model_name": "FloatProgressModel",
            "bar_style": "success",
            "max": 12866,
            "_view_module": "@jupyter-widgets/controls",
            "_model_module_version": "1.5.0",
            "value": 12866,
            "_view_count": null,
            "_view_module_version": "1.5.0",
            "orientation": "horizontal",
            "min": 0,
            "description_tooltip": null,
            "_model_module": "@jupyter-widgets/controls",
            "layout": "IPY_MODEL_a572a337826249028a2e1743200acef9"
          },
          "model_module_version": "1.5.0"
        },
        "ef51c287e027425c96f93da25c91fa3c": {
          "model_module": "@jupyter-widgets/controls",
          "model_name": "HTMLModel",
          "state": {
            "_view_name": "HTMLView",
            "style": "IPY_MODEL_731b41dc44b0402a9d9ae31ffb9248b6",
            "_dom_classes": [],
            "description": "",
            "_model_name": "HTMLModel",
            "placeholder": "​",
            "_view_module": "@jupyter-widgets/controls",
            "_model_module_version": "1.5.0",
            "value": " 12866/12866 [00:02&lt;00:00, 5083.51it/s]",
            "_view_count": null,
            "_view_module_version": "1.5.0",
            "description_tooltip": null,
            "_model_module": "@jupyter-widgets/controls",
            "layout": "IPY_MODEL_eb9bab9fd9214949b22c434bdd8b9ded"
          },
          "model_module_version": "1.5.0"
        },
        "bf1e4a2d454d454eaf82c4b1f8dc5316": {
          "model_module": "@jupyter-widgets/controls",
          "model_name": "ProgressStyleModel",
          "state": {
            "_view_name": "StyleView",
            "_model_name": "ProgressStyleModel",
            "description_width": "initial",
            "_view_module": "@jupyter-widgets/base",
            "_model_module_version": "1.5.0",
            "_view_count": null,
            "_view_module_version": "1.2.0",
            "bar_color": null,
            "_model_module": "@jupyter-widgets/controls"
          },
          "model_module_version": "1.5.0"
        },
        "a572a337826249028a2e1743200acef9": {
          "model_module": "@jupyter-widgets/base",
          "model_name": "LayoutModel",
          "state": {
            "_view_name": "LayoutView",
            "grid_template_rows": null,
            "right": null,
            "justify_content": null,
            "_view_module": "@jupyter-widgets/base",
            "overflow": null,
            "_model_module_version": "1.2.0",
            "_view_count": null,
            "flex_flow": null,
            "width": null,
            "min_width": null,
            "border": null,
            "align_items": null,
            "bottom": null,
            "_model_module": "@jupyter-widgets/base",
            "top": null,
            "grid_column": null,
            "overflow_y": null,
            "overflow_x": null,
            "grid_auto_flow": null,
            "grid_area": null,
            "grid_template_columns": null,
            "flex": null,
            "_model_name": "LayoutModel",
            "justify_items": null,
            "grid_row": null,
            "max_height": null,
            "align_content": null,
            "visibility": null,
            "align_self": null,
            "height": null,
            "min_height": null,
            "padding": null,
            "grid_auto_rows": null,
            "grid_gap": null,
            "max_width": null,
            "order": null,
            "_view_module_version": "1.2.0",
            "grid_template_areas": null,
            "object_position": null,
            "object_fit": null,
            "grid_auto_columns": null,
            "margin": null,
            "display": null,
            "left": null
          },
          "model_module_version": "1.2.0"
        },
        "731b41dc44b0402a9d9ae31ffb9248b6": {
          "model_module": "@jupyter-widgets/controls",
          "model_name": "DescriptionStyleModel",
          "state": {
            "_view_name": "StyleView",
            "_model_name": "DescriptionStyleModel",
            "description_width": "",
            "_view_module": "@jupyter-widgets/base",
            "_model_module_version": "1.5.0",
            "_view_count": null,
            "_view_module_version": "1.2.0",
            "_model_module": "@jupyter-widgets/controls"
          },
          "model_module_version": "1.5.0"
        },
        "eb9bab9fd9214949b22c434bdd8b9ded": {
          "model_module": "@jupyter-widgets/base",
          "model_name": "LayoutModel",
          "state": {
            "_view_name": "LayoutView",
            "grid_template_rows": null,
            "right": null,
            "justify_content": null,
            "_view_module": "@jupyter-widgets/base",
            "overflow": null,
            "_model_module_version": "1.2.0",
            "_view_count": null,
            "flex_flow": null,
            "width": null,
            "min_width": null,
            "border": null,
            "align_items": null,
            "bottom": null,
            "_model_module": "@jupyter-widgets/base",
            "top": null,
            "grid_column": null,
            "overflow_y": null,
            "overflow_x": null,
            "grid_auto_flow": null,
            "grid_area": null,
            "grid_template_columns": null,
            "flex": null,
            "_model_name": "LayoutModel",
            "justify_items": null,
            "grid_row": null,
            "max_height": null,
            "align_content": null,
            "visibility": null,
            "align_self": null,
            "height": null,
            "min_height": null,
            "padding": null,
            "grid_auto_rows": null,
            "grid_gap": null,
            "max_width": null,
            "order": null,
            "_view_module_version": "1.2.0",
            "grid_template_areas": null,
            "object_position": null,
            "object_fit": null,
            "grid_auto_columns": null,
            "margin": null,
            "display": null,
            "left": null
          },
          "model_module_version": "1.2.0"
        }
      }
    }
  },
  "cells": [
    {
      "cell_type": "markdown",
      "metadata": {
        "id": "jIozR3MQXR-Z"
      },
      "source": [
        "# NLP X - HEC Embeddings Part 2 : Advanced Representations\n",
        "\n",
        "\n",
        "In this practical session, we will focus on word embeddings through word2vec, a simple and more advanced classification models for sentiment analysis (reviews ratings prediction). Once a negative sampling word2vec skipgram is trained, we can visualize learned word vectors in a reduced space and use them in our classification model.\n",
        "\n",
        "You will be asked to :\n",
        "1. **Train your own word embeddings with Skipgram** and Tensorflow using **Negative Sampling** method\n",
        "2. **Train a sentiment model** using your pre-trained word embeddings as inputs for a simple classification architecture\n",
        "3. **Upgrade your sentiment model with attention mechanism** through a Hierarchical Attention Network (HAN)\n",
        "4. **Visualize attention weights** to interpret main sentences and words involved in the prediction\n"
      ]
    },
    {
      "cell_type": "code",
      "metadata": {
        "colab": {
          "base_uri": "https://localhost:8080/"
        },
        "id": "PPUEtBV2XR-d",
        "outputId": "e2c97cbf-19b8-45ee-fea8-af5d2770451e"
      },
      "source": [
        "import io\n",
        "import os\n",
        "import re\n",
        "import tqdm\n",
        "import warnings\n",
        "import itertools\n",
        "from ast import literal_eval\n",
        "\n",
        "import numpy as np\n",
        "import pandas as pd\n",
        "\n",
        "import seaborn as sns\n",
        "import matplotlib.pyplot as plt\n",
        "import plotly.express as px\n",
        "\n",
        "import nltk\n",
        "import sklearn\n",
        "from sklearn import decomposition\n",
        "import tensorflow as tf\n",
        "\n",
        "nltk.download(\"punkt\")\n",
        "warnings.filterwarnings('ignore')"
      ],
      "execution_count": null,
      "outputs": [
        {
          "output_type": "stream",
          "text": [
            "[nltk_data] Downloading package punkt to /root/nltk_data...\n",
            "[nltk_data]   Package punkt is already up-to-date!\n"
          ],
          "name": "stdout"
        }
      ]
    },
    {
      "cell_type": "code",
      "metadata": {
        "colab": {
          "base_uri": "https://localhost:8080/",
          "height": 81,
          "referenced_widgets": [
            "a76fca6c5a3043d4805dcc6114d81bb4",
            "fd40cf806a8948f3badbc1172e2d6879",
            "4a8d57407bec42e590b33aac2d049c38",
            "e75fa26b0ac141a29f837fd28d58f496",
            "7512ef18c8a744ffb037eb22c7ab5e8b",
            "70605a804f8a4855bc678b1698ce488d",
            "fdb5cb372f26409b8d75cce20576941a",
            "9afe77a1f7e5469c8edbc2328d173f45",
            "22839dddccac413a988927c5bd437ac3",
            "e2143cedfe7642b19c14ffb1d39607a3",
            "09eb502ab0724b38b00b255ca857965c",
            "bb9f5639812249f381f5322c10bf8f8e",
            "5569fddd348542fdbcb6336ed1b42798",
            "1dd9017707b5416180e1f556b3727ffc",
            "aa81e558798243cfa00dc4a76b5f658e",
            "967ca0480fe74b5082020bae366147fe"
          ]
        },
        "id": "j-b9jcroXR-e",
        "outputId": "767c643d-f963-40c9-d4c0-0591add8f63b"
      },
      "source": [
        "tqdm.tqdm_notebook()\n",
        "tqdm.notebook.tqdm().pandas()"
      ],
      "execution_count": null,
      "outputs": [
        {
          "output_type": "display_data",
          "data": {
            "application/vnd.jupyter.widget-view+json": {
              "model_id": "a76fca6c5a3043d4805dcc6114d81bb4",
              "version_minor": 0,
              "version_major": 2
            },
            "text/plain": [
              "HBox(children=(FloatProgress(value=1.0, bar_style='info', max=1.0), HTML(value='')))"
            ]
          },
          "metadata": {
            "tags": []
          }
        },
        {
          "output_type": "display_data",
          "data": {
            "application/vnd.jupyter.widget-view+json": {
              "model_id": "22839dddccac413a988927c5bd437ac3",
              "version_minor": 0,
              "version_major": 2
            },
            "text/plain": [
              "HBox(children=(FloatProgress(value=1.0, bar_style='info', max=1.0), HTML(value='')))"
            ]
          },
          "metadata": {
            "tags": []
          }
        }
      ]
    },
    {
      "cell_type": "markdown",
      "metadata": {
        "id": "NhrXXQNjXR-f"
      },
      "source": [
        "### Data collection and preprocessing"
      ]
    },
    {
      "cell_type": "code",
      "metadata": {
        "id": "TTopgfVKXc6S",
        "colab": {
          "base_uri": "https://localhost:8080/"
        },
        "outputId": "eadadef6-27c5-40fb-c070-3533fc3aaa11"
      },
      "source": [
        "from google.colab import drive\n",
        "drive.mount('/content/drive')\n"
      ],
      "execution_count": null,
      "outputs": [
        {
          "output_type": "stream",
          "text": [
            "Drive already mounted at /content/drive; to attempt to forcibly remount, call drive.mount(\"/content/drive\", force_remount=True).\n"
          ],
          "name": "stdout"
        }
      ]
    },
    {
      "cell_type": "code",
      "metadata": {
        "id": "YfaL3WgeXR-f",
        "colab": {
          "base_uri": "https://localhost:8080/"
        },
        "outputId": "57b3f823-d945-4781-d431-d494087a613b"
      },
      "source": [
        "dirpath = \"drive/MyDrive/NLP @ X_HEC - 2K21/Cours 4 - Embedding part 2/data/\" # change the directory path here\n",
        "filepath = os.path.join(dirpath, \"clean_text_scrapped_data_2021.csv.gz\")\n",
        "\n",
        "DATASET_SIZE = 50000\n",
        "def get_reviews(nrows=None):\n",
        "    return pd.read_csv(filepath,\n",
        "                     #compression='gzip', \n",
        "                     low_memory=False, \n",
        "                     nrows=nrows,\n",
        "                     parse_dates=['diner_date', 'rating_date'])\n",
        "\n",
        "\n",
        "def clean_reviews(reviews):\n",
        "    reviews['review'] = reviews.content.apply(lambda x: ' '.join(eval(x)))\n",
        "    return reviews\n",
        "\n",
        "\n",
        "def split_reviews_per_sentence(reviews):\n",
        "    reviews[\"review_sentences\"] = reviews.review.progress_apply(\n",
        "        lambda rvw: nltk.sent_tokenize(rvw)\n",
        "    )\n",
        "    return reviews"
      ],
      "execution_count": null,
      "outputs": [
        {
          "output_type": "stream",
          "text": [
            "\n",
            "\n"
          ],
          "name": "stdout"
        }
      ]
    },
    {
      "cell_type": "code",
      "metadata": {
        "colab": {
          "base_uri": "https://localhost:8080/",
          "height": 338
        },
        "id": "cOatV67RXR-g",
        "outputId": "61a09731-24fc-47f6-875f-1e8001afbacf"
      },
      "source": [
        "reviews = get_reviews(DATASET_SIZE)\n",
        "reviews.head(2)"
      ],
      "execution_count": null,
      "outputs": [
        {
          "output_type": "execute_result",
          "data": {
            "text/html": [
              "<div>\n",
              "<style scoped>\n",
              "    .dataframe tbody tr th:only-of-type {\n",
              "        vertical-align: middle;\n",
              "    }\n",
              "\n",
              "    .dataframe tbody tr th {\n",
              "        vertical-align: top;\n",
              "    }\n",
              "\n",
              "    .dataframe thead th {\n",
              "        text-align: right;\n",
              "    }\n",
              "</style>\n",
              "<table border=\"1\" class=\"dataframe\">\n",
              "  <thead>\n",
              "    <tr style=\"text-align: right;\">\n",
              "      <th></th>\n",
              "      <th>Unnamed: 0</th>\n",
              "      <th>0</th>\n",
              "      <th>answer_text</th>\n",
              "      <th>content</th>\n",
              "      <th>diner_date</th>\n",
              "      <th>id_comment</th>\n",
              "      <th>id_resto</th>\n",
              "      <th>other_ratings_category</th>\n",
              "      <th>other_ratings_value</th>\n",
              "      <th>rating</th>\n",
              "      <th>rating_date</th>\n",
              "      <th>resto</th>\n",
              "      <th>resto_url</th>\n",
              "      <th>reviewer_info_sup</th>\n",
              "      <th>reviewer_origin</th>\n",
              "      <th>reviewer_pseudo</th>\n",
              "      <th>title</th>\n",
              "      <th>url</th>\n",
              "      <th>Day_of_week</th>\n",
              "      <th>clean_content</th>\n",
              "    </tr>\n",
              "  </thead>\n",
              "  <tbody>\n",
              "    <tr>\n",
              "      <th>0</th>\n",
              "      <td>482202</td>\n",
              "      <td>NaN</td>\n",
              "      <td>['We are extreamly sad about your Experiance. ...</td>\n",
              "      <td>['We actually visited this place a few times f...</td>\n",
              "      <td>2017-01-01</td>\n",
              "      <td>g10259438-d11744624-r450260275</td>\n",
              "      <td>g10259438-d11744624</td>\n",
              "      <td>[]</td>\n",
              "      <td>[]</td>\n",
              "      <td>1.0</td>\n",
              "      <td>2017-01-07</td>\n",
              "      <td>Buns_E17</td>\n",
              "      <td>/Restaurant_Review-g10259438-d11744624-Reviews...</td>\n",
              "      <td>[['pencil-paper', '11'], ['thumbs-up', '4']]</td>\n",
              "      <td>['London, United Kingdom']</td>\n",
              "      <td>lubix0209</td>\n",
              "      <td>Really disappointing</td>\n",
              "      <td>https://www.tripadvisor.com/ShowUserReviews-g1...</td>\n",
              "      <td>5</td>\n",
              "      <td>[\"'we\", 'actually', 'visited', 'place', 'time'...</td>\n",
              "    </tr>\n",
              "    <tr>\n",
              "      <th>1</th>\n",
              "      <td>482231</td>\n",
              "      <td>NaN</td>\n",
              "      <td>['Hey gucci Burger', 'Thank you so much for th...</td>\n",
              "      <td>['A blast of warm air greeted us as we entered...</td>\n",
              "      <td>2019-01-01</td>\n",
              "      <td>g10259438-d11744624-r645208007</td>\n",
              "      <td>g10259438-d11744624</td>\n",
              "      <td>[]</td>\n",
              "      <td>[]</td>\n",
              "      <td>5.0</td>\n",
              "      <td>2019-01-11</td>\n",
              "      <td>Buns_E17</td>\n",
              "      <td>/Restaurant_Review-g10259438-d11744624-Reviews...</td>\n",
              "      <td>[['pencil-paper', '5'], ['thumbs-up', '1']]</td>\n",
              "      <td>['Chingford, United Kingdom']</td>\n",
              "      <td>Depeche242</td>\n",
              "      <td>Gucci Burgers</td>\n",
              "      <td>https://www.tripadvisor.com/ShowUserReviews-g1...</td>\n",
              "      <td>4</td>\n",
              "      <td>['blast', 'warm', 'air', 'greeted', 'u', 'ente...</td>\n",
              "    </tr>\n",
              "  </tbody>\n",
              "</table>\n",
              "</div>"
            ],
            "text/plain": [
              "   Unnamed: 0  ...                                      clean_content\n",
              "0      482202  ...  [\"'we\", 'actually', 'visited', 'place', 'time'...\n",
              "1      482231  ...  ['blast', 'warm', 'air', 'greeted', 'u', 'ente...\n",
              "\n",
              "[2 rows x 20 columns]"
            ]
          },
          "metadata": {
            "tags": []
          },
          "execution_count": 25
        }
      ]
    },
    {
      "cell_type": "code",
      "metadata": {
        "colab": {
          "base_uri": "https://localhost:8080/",
          "height": 374
        },
        "id": "H8_N4YYv5H-L",
        "outputId": "8081da6c-469b-4d1d-93ac-52fd55222214"
      },
      "source": [
        "df1 = pd.read_csv(\"drive/MyDrive/NLP @ X_HEC - 2K21/Cours 4 - Embedding part 2/data/Bokan.csv\")\n",
        "df1 = df1.drop(labels='Unnamed: 0', axis=1)\n",
        "df2 = pd.read_json(\"drive/MyDrive/NLP @ X_HEC - 2K21/Cours 4 - Embedding part 2/data/SauvegardeFinaleGrade4.json\")\n",
        "reviews = pd.concat([df1, df2])\n",
        "reviews = reviews.rename(columns={\"Review\": \"content\", \"Grade\": \"rating\"})\n",
        "reviews.head()"
      ],
      "execution_count": null,
      "outputs": [
        {
          "output_type": "execute_result",
          "data": {
            "text/html": [
              "<div>\n",
              "<style scoped>\n",
              "    .dataframe tbody tr th:only-of-type {\n",
              "        vertical-align: middle;\n",
              "    }\n",
              "\n",
              "    .dataframe tbody tr th {\n",
              "        vertical-align: top;\n",
              "    }\n",
              "\n",
              "    .dataframe thead th {\n",
              "        text-align: right;\n",
              "    }\n",
              "</style>\n",
              "<table border=\"1\" class=\"dataframe\">\n",
              "  <thead>\n",
              "    <tr style=\"text-align: right;\">\n",
              "      <th></th>\n",
              "      <th>Restaurant</th>\n",
              "      <th>Adresse</th>\n",
              "      <th>Rank</th>\n",
              "      <th>Date</th>\n",
              "      <th>Tittle</th>\n",
              "      <th>content</th>\n",
              "      <th>rating</th>\n",
              "      <th>Username</th>\n",
              "      <th>Price</th>\n",
              "      <th>Style</th>\n",
              "    </tr>\n",
              "  </thead>\n",
              "  <tbody>\n",
              "    <tr>\n",
              "      <th>0</th>\n",
              "      <td>Bokan 37 Restaurant</td>\n",
              "      <td>Floor 37-39, 40 Marsh Wall</td>\n",
              "      <td>#853</td>\n",
              "      <td>December 30, 2020</td>\n",
              "      <td>“Dinner, Drinks and one heck of a view!”\\n</td>\n",
              "      <td>My girlfriend and I enjoyed a fantastic meal a...</td>\n",
              "      <td>5</td>\n",
              "      <td>O3135PCalexh</td>\n",
              "      <td>Indulge and dine amongst industrial dockyard ...</td>\n",
              "      <td>[]</td>\n",
              "    </tr>\n",
              "    <tr>\n",
              "      <th>1</th>\n",
              "      <td>Bokan 37 Restaurant</td>\n",
              "      <td>Floor 37-39, 40 Marsh Wall</td>\n",
              "      <td>#853</td>\n",
              "      <td>December 12, 2020</td>\n",
              "      <td>“Come here for the evening”\\n</td>\n",
              "      <td>Come here for the evening on a date very happy...</td>\n",
              "      <td>5</td>\n",
              "      <td>771maisiej</td>\n",
              "      <td>Indulge and dine amongst industrial dockyard ...</td>\n",
              "      <td>[]</td>\n",
              "    </tr>\n",
              "    <tr>\n",
              "      <th>2</th>\n",
              "      <td>Bokan 37 Restaurant</td>\n",
              "      <td>Floor 37-39, 40 Marsh Wall</td>\n",
              "      <td>#853</td>\n",
              "      <td>December 12, 2020</td>\n",
              "      <td>“The staff make this place special ”\\n</td>\n",
              "      <td>Lovely ambiance,nicest, most thoughtful staff ...</td>\n",
              "      <td>5</td>\n",
              "      <td>laureninnes90</td>\n",
              "      <td>Indulge and dine amongst industrial dockyard ...</td>\n",
              "      <td>[]</td>\n",
              "    </tr>\n",
              "    <tr>\n",
              "      <th>3</th>\n",
              "      <td>Bokan 37 Restaurant</td>\n",
              "      <td>Floor 37-39, 40 Marsh Wall</td>\n",
              "      <td>#853</td>\n",
              "      <td>October 24, 2020</td>\n",
              "      <td>“Amazing staff - especially Tatyana”\\n</td>\n",
              "      <td>Bokan has been our favorite Saturday spot with...</td>\n",
              "      <td>5</td>\n",
              "      <td>victoriapW4926RH</td>\n",
              "      <td>Indulge and dine amongst industrial dockyard ...</td>\n",
              "      <td>[]</td>\n",
              "    </tr>\n",
              "    <tr>\n",
              "      <th>4</th>\n",
              "      <td>Bokan 37 Restaurant</td>\n",
              "      <td>Floor 37-39, 40 Marsh Wall</td>\n",
              "      <td>#853</td>\n",
              "      <td>October 18, 2020</td>\n",
              "      <td>“Outstanding service and wonderful”\\n</td>\n",
              "      <td>Outstanding service and wonderful food . Loved...</td>\n",
              "      <td>5</td>\n",
              "      <td>Nickkelly55</td>\n",
              "      <td>Indulge and dine amongst industrial dockyard ...</td>\n",
              "      <td>[]</td>\n",
              "    </tr>\n",
              "  </tbody>\n",
              "</table>\n",
              "</div>"
            ],
            "text/plain": [
              "              Restaurant  ... Style\n",
              "0   Bokan 37 Restaurant   ...    []\n",
              "1   Bokan 37 Restaurant   ...    []\n",
              "2   Bokan 37 Restaurant   ...    []\n",
              "3   Bokan 37 Restaurant   ...    []\n",
              "4   Bokan 37 Restaurant   ...    []\n",
              "\n",
              "[5 rows x 10 columns]"
            ]
          },
          "metadata": {
            "tags": []
          },
          "execution_count": 26
        }
      ]
    },
    {
      "cell_type": "code",
      "metadata": {
        "colab": {
          "base_uri": "https://localhost:8080/"
        },
        "id": "_dLtmDVcSkP5",
        "outputId": "3e9f09ce-b986-43e9-8b58-019fa4af0d57"
      },
      "source": [
        "df1['Date'] = pd.to_datetime(df1['Date'])\n",
        "df1.info()"
      ],
      "execution_count": null,
      "outputs": [
        {
          "output_type": "stream",
          "text": [
            "<class 'pandas.core.frame.DataFrame'>\n",
            "RangeIndex: 572 entries, 0 to 571\n",
            "Data columns (total 10 columns):\n",
            " #   Column      Non-Null Count  Dtype         \n",
            "---  ------      --------------  -----         \n",
            " 0   Restaurant  572 non-null    object        \n",
            " 1   Adresse     572 non-null    object        \n",
            " 2   Rank        572 non-null    object        \n",
            " 3   Date        572 non-null    datetime64[ns]\n",
            " 4   Tittle      572 non-null    object        \n",
            " 5   Review      572 non-null    object        \n",
            " 6   Grade       572 non-null    int64         \n",
            " 7   Username    572 non-null    object        \n",
            " 8   Price       572 non-null    object        \n",
            " 9   Style       572 non-null    object        \n",
            "dtypes: datetime64[ns](1), int64(1), object(8)\n",
            "memory usage: 44.8+ KB\n"
          ],
          "name": "stdout"
        }
      ]
    },
    {
      "cell_type": "code",
      "metadata": {
        "colab": {
          "base_uri": "https://localhost:8080/",
          "height": 291
        },
        "id": "Kv2EzKrFSEgQ",
        "outputId": "aa49acec-0e0d-4d48-8d23-9c9c0ddbec76"
      },
      "source": [
        "df1.set_index('Date')['Review'].resample('M').count().plot(color=\"b\")\n",
        "plt.show()"
      ],
      "execution_count": null,
      "outputs": [
        {
          "output_type": "display_data",
          "data": {
            "image/png": "[encoded data removed]",
            "text/plain": [
              "<Figure size 432x288 with 1 Axes>"
            ]
          },
          "metadata": {
            "tags": [],
            "needs_background": "light"
          }
        }
      ]
    },
    {
      "cell_type": "code",
      "metadata": {
        "colab": {
          "base_uri": "https://localhost:8080/"
        },
        "id": "ZJo_UhKFAoSl",
        "outputId": "bdb5e157-0a94-4de5-e85e-8cc8de15b011"
      },
      "source": [
        "reviews.info()"
      ],
      "execution_count": null,
      "outputs": [
        {
          "output_type": "stream",
          "text": [
            "<class 'pandas.core.frame.DataFrame'>\n",
            "Int64Index: 12866 entries, 0 to 12293\n",
            "Data columns (total 10 columns):\n",
            " #   Column      Non-Null Count  Dtype \n",
            "---  ------      --------------  ----- \n",
            " 0   Restaurant  12866 non-null  object\n",
            " 1   Adresse     12866 non-null  object\n",
            " 2   Rank        12866 non-null  object\n",
            " 3   Date        12866 non-null  object\n",
            " 4   Tittle      12866 non-null  object\n",
            " 5   content     12866 non-null  object\n",
            " 6   rating      12866 non-null  int64 \n",
            " 7   Username    12866 non-null  object\n",
            " 8   Price       12866 non-null  object\n",
            " 9   Style       12866 non-null  object\n",
            "dtypes: int64(1), object(9)\n",
            "memory usage: 1.1+ MB\n"
          ],
          "name": "stdout"
        }
      ]
    },
    {
      "cell_type": "markdown",
      "metadata": {
        "id": "KRkKDOc3XR-g"
      },
      "source": [
        "### Preprocessing & Understanding\n",
        "\n",
        "Let's visualize a review, contained in `content` column, then perform basic cleaning to get a proper text for each review"
      ]
    },
    {
      "cell_type": "code",
      "metadata": {
        "colab": {
          "base_uri": "https://localhost:8080/"
        },
        "id": "bU0uCrDMXR-g",
        "outputId": "a635e527-1a04-4d6a-d2a9-032e023882f7"
      },
      "source": [
        "reviews.content[0], type(reviews.content[0])"
      ],
      "execution_count": null,
      "outputs": [
        {
          "output_type": "execute_result",
          "data": {
            "text/plain": [
              "(0    My girlfriend and I enjoyed a fantastic meal a...\n",
              " 0    For the last 9 years I’ve been working in East...\n",
              " Name: content, dtype: object, pandas.core.series.Series)"
            ]
          },
          "metadata": {
            "tags": []
          },
          "execution_count": 30
        }
      ]
    },
    {
      "cell_type": "code",
      "metadata": {
        "colab": {
          "base_uri": "https://localhost:8080/",
          "height": 508,
          "referenced_widgets": [
            "eca79feeeb7042a6a00d0f223625f33e",
            "84d9a216c7b24f5cb42b53873c11ba3c",
            "d5953b720db24128b7225be2fcc5302a",
            "48ca1a9a0c9d4d71826598e74cd7fac2",
            "3e6e2d31104e48d9962e663f367834c5",
            "0670a59351e341b9be4318d8810d8361",
            "f38644a496b7484fa5a6f1c93c2fbc97",
            "df50fcd94a8a4aceab3ffdfaefe48049"
          ]
        },
        "id": "V59YSnNT7AGg",
        "outputId": "e9c888e5-4487-42b1-b1bd-aaa76d338488"
      },
      "source": [
        "#reviews['review'] = reviews.content.apply(lambda x: ' '.join(eval(x)))\n",
        "reviews[\"review_sentences\"] = reviews.content.progress_apply(\n",
        "        lambda rvw: nltk.sent_tokenize(rvw)\n",
        "    )\n",
        "reviews.head()"
      ],
      "execution_count": null,
      "outputs": [
        {
          "output_type": "display_data",
          "data": {
            "application/vnd.jupyter.widget-view+json": {
              "model_id": "eca79feeeb7042a6a00d0f223625f33e",
              "version_minor": 0,
              "version_major": 2
            },
            "text/plain": [
              "HBox(children=(FloatProgress(value=0.0, max=12866.0), HTML(value='')))"
            ]
          },
          "metadata": {
            "tags": []
          }
        },
        {
          "output_type": "stream",
          "text": [
            "\n"
          ],
          "name": "stdout"
        },
        {
          "output_type": "execute_result",
          "data": {
            "text/html": [
              "<div>\n",
              "<style scoped>\n",
              "    .dataframe tbody tr th:only-of-type {\n",
              "        vertical-align: middle;\n",
              "    }\n",
              "\n",
              "    .dataframe tbody tr th {\n",
              "        vertical-align: top;\n",
              "    }\n",
              "\n",
              "    .dataframe thead th {\n",
              "        text-align: right;\n",
              "    }\n",
              "</style>\n",
              "<table border=\"1\" class=\"dataframe\">\n",
              "  <thead>\n",
              "    <tr style=\"text-align: right;\">\n",
              "      <th></th>\n",
              "      <th>Restaurant</th>\n",
              "      <th>Adresse</th>\n",
              "      <th>Rank</th>\n",
              "      <th>Date</th>\n",
              "      <th>Tittle</th>\n",
              "      <th>content</th>\n",
              "      <th>rating</th>\n",
              "      <th>Username</th>\n",
              "      <th>Price</th>\n",
              "      <th>Style</th>\n",
              "      <th>review_sentences</th>\n",
              "    </tr>\n",
              "  </thead>\n",
              "  <tbody>\n",
              "    <tr>\n",
              "      <th>0</th>\n",
              "      <td>Bokan 37 Restaurant</td>\n",
              "      <td>Floor 37-39, 40 Marsh Wall</td>\n",
              "      <td>#853</td>\n",
              "      <td>December 30, 2020</td>\n",
              "      <td>“Dinner, Drinks and one heck of a view!”\\n</td>\n",
              "      <td>My girlfriend and I enjoyed a fantastic meal a...</td>\n",
              "      <td>5</td>\n",
              "      <td>O3135PCalexh</td>\n",
              "      <td>Indulge and dine amongst industrial dockyard ...</td>\n",
              "      <td>[]</td>\n",
              "      <td>[My girlfriend and I enjoyed a fantastic meal ...</td>\n",
              "    </tr>\n",
              "    <tr>\n",
              "      <th>1</th>\n",
              "      <td>Bokan 37 Restaurant</td>\n",
              "      <td>Floor 37-39, 40 Marsh Wall</td>\n",
              "      <td>#853</td>\n",
              "      <td>December 12, 2020</td>\n",
              "      <td>“Come here for the evening”\\n</td>\n",
              "      <td>Come here for the evening on a date very happy...</td>\n",
              "      <td>5</td>\n",
              "      <td>771maisiej</td>\n",
              "      <td>Indulge and dine amongst industrial dockyard ...</td>\n",
              "      <td>[]</td>\n",
              "      <td>[Come here for the evening on a date very happ...</td>\n",
              "    </tr>\n",
              "    <tr>\n",
              "      <th>2</th>\n",
              "      <td>Bokan 37 Restaurant</td>\n",
              "      <td>Floor 37-39, 40 Marsh Wall</td>\n",
              "      <td>#853</td>\n",
              "      <td>December 12, 2020</td>\n",
              "      <td>“The staff make this place special ”\\n</td>\n",
              "      <td>Lovely ambiance,nicest, most thoughtful staff ...</td>\n",
              "      <td>5</td>\n",
              "      <td>laureninnes90</td>\n",
              "      <td>Indulge and dine amongst industrial dockyard ...</td>\n",
              "      <td>[]</td>\n",
              "      <td>[Lovely ambiance,nicest, most thoughtful staff...</td>\n",
              "    </tr>\n",
              "    <tr>\n",
              "      <th>3</th>\n",
              "      <td>Bokan 37 Restaurant</td>\n",
              "      <td>Floor 37-39, 40 Marsh Wall</td>\n",
              "      <td>#853</td>\n",
              "      <td>October 24, 2020</td>\n",
              "      <td>“Amazing staff - especially Tatyana”\\n</td>\n",
              "      <td>Bokan has been our favorite Saturday spot with...</td>\n",
              "      <td>5</td>\n",
              "      <td>victoriapW4926RH</td>\n",
              "      <td>Indulge and dine amongst industrial dockyard ...</td>\n",
              "      <td>[]</td>\n",
              "      <td>[Bokan has been our favorite Saturday spot wit...</td>\n",
              "    </tr>\n",
              "    <tr>\n",
              "      <th>4</th>\n",
              "      <td>Bokan 37 Restaurant</td>\n",
              "      <td>Floor 37-39, 40 Marsh Wall</td>\n",
              "      <td>#853</td>\n",
              "      <td>October 18, 2020</td>\n",
              "      <td>“Outstanding service and wonderful”\\n</td>\n",
              "      <td>Outstanding service and wonderful food . Loved...</td>\n",
              "      <td>5</td>\n",
              "      <td>Nickkelly55</td>\n",
              "      <td>Indulge and dine amongst industrial dockyard ...</td>\n",
              "      <td>[]</td>\n",
              "      <td>[Outstanding service and wonderful food ., Lov...</td>\n",
              "    </tr>\n",
              "  </tbody>\n",
              "</table>\n",
              "</div>"
            ],
            "text/plain": [
              "              Restaurant  ...                                   review_sentences\n",
              "0   Bokan 37 Restaurant   ...  [My girlfriend and I enjoyed a fantastic meal ...\n",
              "1   Bokan 37 Restaurant   ...  [Come here for the evening on a date very happ...\n",
              "2   Bokan 37 Restaurant   ...  [Lovely ambiance,nicest, most thoughtful staff...\n",
              "3   Bokan 37 Restaurant   ...  [Bokan has been our favorite Saturday spot wit...\n",
              "4   Bokan 37 Restaurant   ...  [Outstanding service and wonderful food ., Lov...\n",
              "\n",
              "[5 rows x 11 columns]"
            ]
          },
          "metadata": {
            "tags": []
          },
          "execution_count": 31
        }
      ]
    },
    {
      "cell_type": "code",
      "metadata": {
        "colab": {
          "base_uri": "https://localhost:8080/",
          "height": 147
        },
        "id": "S6m4SJMqXR-h",
        "outputId": "9af1b092-3643-4cf9-e4c1-664feb3c1ec2"
      },
      "source": [
        "reviews = clean_reviews(reviews)\n",
        "reviews.review[0]"
      ],
      "execution_count": null,
      "outputs": [
        {
          "output_type": "error",
          "ename": "SyntaxError",
          "evalue": "ignored",
          "traceback": [
            "\u001b[0;36m  File \u001b[0;32m\"<string>\"\u001b[0;36m, line \u001b[0;32m1\u001b[0m\n\u001b[0;31m    My girlfriend and I enjoyed a fantastic meal at Bokan, just before Bonfire night. We had an excellent dinner, with 5* service and highly knowledgeable staff who genuinely cared about crafting us a perfect evening.\u001b[0m\n\u001b[0m                ^\u001b[0m\n\u001b[0;31mSyntaxError\u001b[0m\u001b[0;31m:\u001b[0m invalid syntax\n"
          ]
        }
      ]
    },
    {
      "cell_type": "markdown",
      "metadata": {
        "id": "-8_s9TiVXR-h"
      },
      "source": [
        "looks better now ! Now let's split every review by sentence using `sent_tokenize`from `nltk``"
      ]
    },
    {
      "cell_type": "markdown",
      "metadata": {
        "id": "t9YKcsInXR-i"
      },
      "source": [
        "For simplicity during this practical session, we will only consider the first *N* reviews. (you can make vary *N*)"
      ]
    },
    {
      "cell_type": "code",
      "metadata": {
        "colab": {
          "base_uri": "https://localhost:8080/"
        },
        "id": "NEyXYstpXR-i",
        "outputId": "89ca199e-5180-4e77-84c5-6adfe0c55c16"
      },
      "source": [
        "N = 35000\n",
        "first_reviews = reviews.head(N)\n",
        "first_reviews.shape"
      ],
      "execution_count": null,
      "outputs": [
        {
          "output_type": "execute_result",
          "data": {
            "text/plain": [
              "(12866, 11)"
            ]
          },
          "metadata": {
            "tags": []
          },
          "execution_count": 34
        }
      ]
    },
    {
      "cell_type": "code",
      "metadata": {
        "colab": {
          "base_uri": "https://localhost:8080/",
          "height": 844
        },
        "id": "GLTFswCQQMZW",
        "outputId": "76d944bf-fc96-4784-a208-53f578dcf001"
      },
      "source": [
        "first_reviews"
      ],
      "execution_count": null,
      "outputs": [
        {
          "output_type": "execute_result",
          "data": {
            "text/html": [
              "<div>\n",
              "<style scoped>\n",
              "    .dataframe tbody tr th:only-of-type {\n",
              "        vertical-align: middle;\n",
              "    }\n",
              "\n",
              "    .dataframe tbody tr th {\n",
              "        vertical-align: top;\n",
              "    }\n",
              "\n",
              "    .dataframe thead th {\n",
              "        text-align: right;\n",
              "    }\n",
              "</style>\n",
              "<table border=\"1\" class=\"dataframe\">\n",
              "  <thead>\n",
              "    <tr style=\"text-align: right;\">\n",
              "      <th></th>\n",
              "      <th>Restaurant</th>\n",
              "      <th>Adresse</th>\n",
              "      <th>Rank</th>\n",
              "      <th>Date</th>\n",
              "      <th>Tittle</th>\n",
              "      <th>content</th>\n",
              "      <th>rating</th>\n",
              "      <th>Username</th>\n",
              "      <th>Price</th>\n",
              "      <th>Style</th>\n",
              "      <th>review_sentences</th>\n",
              "    </tr>\n",
              "  </thead>\n",
              "  <tbody>\n",
              "    <tr>\n",
              "      <th>0</th>\n",
              "      <td>Bokan 37 Restaurant</td>\n",
              "      <td>Floor 37-39, 40 Marsh Wall</td>\n",
              "      <td>#853</td>\n",
              "      <td>December 30, 2020</td>\n",
              "      <td>“Dinner, Drinks and one heck of a view!”\\n</td>\n",
              "      <td>My girlfriend and I enjoyed a fantastic meal a...</td>\n",
              "      <td>5</td>\n",
              "      <td>O3135PCalexh</td>\n",
              "      <td>Indulge and dine amongst industrial dockyard ...</td>\n",
              "      <td>[]</td>\n",
              "      <td>[My girlfriend and I enjoyed a fantastic meal ...</td>\n",
              "    </tr>\n",
              "    <tr>\n",
              "      <th>1</th>\n",
              "      <td>Bokan 37 Restaurant</td>\n",
              "      <td>Floor 37-39, 40 Marsh Wall</td>\n",
              "      <td>#853</td>\n",
              "      <td>December 12, 2020</td>\n",
              "      <td>“Come here for the evening”\\n</td>\n",
              "      <td>Come here for the evening on a date very happy...</td>\n",
              "      <td>5</td>\n",
              "      <td>771maisiej</td>\n",
              "      <td>Indulge and dine amongst industrial dockyard ...</td>\n",
              "      <td>[]</td>\n",
              "      <td>[Come here for the evening on a date very happ...</td>\n",
              "    </tr>\n",
              "    <tr>\n",
              "      <th>2</th>\n",
              "      <td>Bokan 37 Restaurant</td>\n",
              "      <td>Floor 37-39, 40 Marsh Wall</td>\n",
              "      <td>#853</td>\n",
              "      <td>December 12, 2020</td>\n",
              "      <td>“The staff make this place special ”\\n</td>\n",
              "      <td>Lovely ambiance,nicest, most thoughtful staff ...</td>\n",
              "      <td>5</td>\n",
              "      <td>laureninnes90</td>\n",
              "      <td>Indulge and dine amongst industrial dockyard ...</td>\n",
              "      <td>[]</td>\n",
              "      <td>[Lovely ambiance,nicest, most thoughtful staff...</td>\n",
              "    </tr>\n",
              "    <tr>\n",
              "      <th>3</th>\n",
              "      <td>Bokan 37 Restaurant</td>\n",
              "      <td>Floor 37-39, 40 Marsh Wall</td>\n",
              "      <td>#853</td>\n",
              "      <td>October 24, 2020</td>\n",
              "      <td>“Amazing staff - especially Tatyana”\\n</td>\n",
              "      <td>Bokan has been our favorite Saturday spot with...</td>\n",
              "      <td>5</td>\n",
              "      <td>victoriapW4926RH</td>\n",
              "      <td>Indulge and dine amongst industrial dockyard ...</td>\n",
              "      <td>[]</td>\n",
              "      <td>[Bokan has been our favorite Saturday spot wit...</td>\n",
              "    </tr>\n",
              "    <tr>\n",
              "      <th>4</th>\n",
              "      <td>Bokan 37 Restaurant</td>\n",
              "      <td>Floor 37-39, 40 Marsh Wall</td>\n",
              "      <td>#853</td>\n",
              "      <td>October 18, 2020</td>\n",
              "      <td>“Outstanding service and wonderful”\\n</td>\n",
              "      <td>Outstanding service and wonderful food . Loved...</td>\n",
              "      <td>5</td>\n",
              "      <td>Nickkelly55</td>\n",
              "      <td>Indulge and dine amongst industrial dockyard ...</td>\n",
              "      <td>[]</td>\n",
              "      <td>[Outstanding service and wonderful food ., Lov...</td>\n",
              "    </tr>\n",
              "    <tr>\n",
              "      <th>...</th>\n",
              "      <td>...</td>\n",
              "      <td>...</td>\n",
              "      <td>...</td>\n",
              "      <td>...</td>\n",
              "      <td>...</td>\n",
              "      <td>...</td>\n",
              "      <td>...</td>\n",
              "      <td>...</td>\n",
              "      <td>...</td>\n",
              "      <td>...</td>\n",
              "      <td>...</td>\n",
              "    </tr>\n",
              "    <tr>\n",
              "      <th>12289</th>\n",
              "      <td>the Orpington</td>\n",
              "      <td>161 High Street</td>\n",
              "      <td>#1</td>\n",
              "      <td>2018-12-15 00:00:00</td>\n",
              "      <td>“Wow! Yummy mushrooms!”\\n</td>\n",
              "      <td>My first visit and it definitely won’t be my l...</td>\n",
              "      <td>5</td>\n",
              "      <td>Sparkyx</td>\n",
              "      <td>€1 - €2</td>\n",
              "      <td>[]</td>\n",
              "      <td>[My first visit and it definitely won’t be my ...</td>\n",
              "    </tr>\n",
              "    <tr>\n",
              "      <th>12290</th>\n",
              "      <td>the Orpington</td>\n",
              "      <td>161 High Street</td>\n",
              "      <td>#1</td>\n",
              "      <td>2018-12-08 00:00:00</td>\n",
              "      <td>“breakfast”\\n</td>\n",
              "      <td>My partner and i popped in for breakfast and h...</td>\n",
              "      <td>5</td>\n",
              "      <td>goldenaxey2k</td>\n",
              "      <td>€1 - €2</td>\n",
              "      <td>[]</td>\n",
              "      <td>[My partner and i popped in for breakfast and ...</td>\n",
              "    </tr>\n",
              "    <tr>\n",
              "      <th>12291</th>\n",
              "      <td>the Orpington</td>\n",
              "      <td>161 High Street</td>\n",
              "      <td>#1</td>\n",
              "      <td>2018-12-09 00:00:00</td>\n",
              "      <td>“Orpington’s Best Kept Secret!”\\n</td>\n",
              "      <td>Just had breakfast at The Orpington, a new add...</td>\n",
              "      <td>5</td>\n",
              "      <td>MYAJP201</td>\n",
              "      <td>€1 - €2</td>\n",
              "      <td>[]</td>\n",
              "      <td>[Just had breakfast at The Orpington, a new ad...</td>\n",
              "    </tr>\n",
              "    <tr>\n",
              "      <th>12292</th>\n",
              "      <td>the Orpington</td>\n",
              "      <td>161 High Street</td>\n",
              "      <td>#1</td>\n",
              "      <td>2018-12-14 00:00:00</td>\n",
              "      <td>“AMAZING all round”\\n</td>\n",
              "      <td>I just popped in for a quick coffee...</td>\n",
              "      <td>5</td>\n",
              "      <td>Neilio F</td>\n",
              "      <td>€1 - €2</td>\n",
              "      <td>[]</td>\n",
              "      <td>[I just popped in for a quick coffee...]</td>\n",
              "    </tr>\n",
              "    <tr>\n",
              "      <th>12293</th>\n",
              "      <td>the Orpington</td>\n",
              "      <td>161 High Street</td>\n",
              "      <td>#1</td>\n",
              "      <td>2018-12-14 00:00:00</td>\n",
              "      <td>“First Visit-Fab”\\n</td>\n",
              "      <td>Had walked by a couple of times since the Orpi...</td>\n",
              "      <td>5</td>\n",
              "      <td>SevenoaksJohn</td>\n",
              "      <td>€1 - €2</td>\n",
              "      <td>[]</td>\n",
              "      <td>[Had walked by a couple of times since the Orp...</td>\n",
              "    </tr>\n",
              "  </tbody>\n",
              "</table>\n",
              "<p>12866 rows × 11 columns</p>\n",
              "</div>"
            ],
            "text/plain": [
              "                  Restaurant  ...                                   review_sentences\n",
              "0       Bokan 37 Restaurant   ...  [My girlfriend and I enjoyed a fantastic meal ...\n",
              "1       Bokan 37 Restaurant   ...  [Come here for the evening on a date very happ...\n",
              "2       Bokan 37 Restaurant   ...  [Lovely ambiance,nicest, most thoughtful staff...\n",
              "3       Bokan 37 Restaurant   ...  [Bokan has been our favorite Saturday spot wit...\n",
              "4       Bokan 37 Restaurant   ...  [Outstanding service and wonderful food ., Lov...\n",
              "...                      ...  ...                                                ...\n",
              "12289         the Orpington   ...  [My first visit and it definitely won’t be my ...\n",
              "12290         the Orpington   ...  [My partner and i popped in for breakfast and ...\n",
              "12291         the Orpington   ...  [Just had breakfast at The Orpington, a new ad...\n",
              "12292         the Orpington   ...           [I just popped in for a quick coffee...]\n",
              "12293         the Orpington   ...  [Had walked by a couple of times since the Orp...\n",
              "\n",
              "[12866 rows x 11 columns]"
            ]
          },
          "metadata": {
            "tags": []
          },
          "execution_count": 35
        }
      ]
    },
    {
      "cell_type": "markdown",
      "metadata": {
        "id": "X23VXAcZXR-i"
      },
      "source": [
        "**Question** : plot the distribution of ratings. <br>\n",
        "Rating will be the labels to predict in our classification modeling, so take care to distribution labels to define the good training and evaluation strategies."
      ]
    },
    {
      "cell_type": "code",
      "metadata": {
        "colab": {
          "base_uri": "https://localhost:8080/",
          "height": 312
        },
        "id": "EHs2JzAUXR-i",
        "outputId": "ee498d47-60ae-4633-ced3-2904f127cff3"
      },
      "source": [
        "# Average rating value\n",
        "print('Average rating is : {}'.format(round(first_reviews.rating.mean(),2)))\n",
        "\n",
        "# Plotting rating distribution\n",
        "X_ratings = first_reviews.rating.value_counts()\n",
        "ax = sns.barplot(X_ratings.index,X_ratings,alpha=0.8)\n",
        "ax.set(xlabel='Ratings',ylabel='Frequencies',title='Frequencies of ratings over the {} reviews'.format(first_reviews.shape[0]))\n",
        "plt.show()"
      ],
      "execution_count": null,
      "outputs": [
        {
          "output_type": "stream",
          "text": [
            "Average rating is : 4.71\n"
          ],
          "name": "stdout"
        },
        {
          "output_type": "display_data",
          "data": {
            "image/png": "[encoded data removed]",
            "text/plain": [
              "<Figure size 432x288 with 1 Axes>"
            ]
          },
          "metadata": {
            "tags": [],
            "needs_background": "light"
          }
        }
      ]
    },
    {
      "cell_type": "code",
      "metadata": {
        "colab": {
          "base_uri": "https://localhost:8080/"
        },
        "id": "SVPULm6fXR-i",
        "outputId": "1a8af844-1ebe-469a-b0bc-36f31caa445f"
      },
      "source": [
        "first_reviews[\"rating\"].value_counts() / len(first_reviews)"
      ],
      "execution_count": null,
      "outputs": [
        {
          "output_type": "execute_result",
          "data": {
            "text/plain": [
              "5    0.827064\n",
              "4    0.106715\n",
              "3    0.032877\n",
              "1    0.017333\n",
              "2    0.016011\n",
              "Name: rating, dtype: float64"
            ]
          },
          "metadata": {
            "tags": []
          },
          "execution_count": 37
        }
      ]
    },
    {
      "cell_type": "markdown",
      "metadata": {
        "id": "hpVikPaNXR-j"
      },
      "source": [
        "This dataset is imbalanced, having ~50% of the dataset with rating = 5. The purpose of this notebook is not about validation metrics, but if we were to use accuracy, we should think about remediation strategy (e.g. subsampling the majority class). This imbalance issue could be one of the improvement axis for the homework."
      ]
    },
    {
      "cell_type": "markdown",
      "metadata": {
        "id": "_40i1E0V4Pz_"
      },
      "source": [
        "\n",
        "**Question** : plot the distribution of the number of sentences per review. <br>\n",
        "When handling sequential/textual data, input length may differ from a review to another. In Deep Learning, knowing input length distribution is important to perform zero-padding or truncating processing."
      ]
    },
    {
      "cell_type": "code",
      "metadata": {
        "colab": {
          "base_uri": "https://localhost:8080/",
          "height": 351
        },
        "id": "ZH2Gw261XR-j",
        "outputId": "56db6f65-69f3-467b-e024-93b346610900"
      },
      "source": [
        "# Plot density with histogram\n",
        "x = plt.figure(figsize=(12,5))\n",
        "sns.distplot(first_reviews[\"review_sentences\"].apply(len))\n",
        "plt.title('Number of phrases distribution')\n",
        "plt.show()"
      ],
      "execution_count": null,
      "outputs": [
        {
          "output_type": "display_data",
          "data": {
            "image/png": "[encoded data removed]",
            "text/plain": [
              "<Figure size 864x360 with 1 Axes>"
            ]
          },
          "metadata": {
            "tags": [],
            "needs_background": "light"
          }
        }
      ]
    },
    {
      "cell_type": "code",
      "metadata": {
        "colab": {
          "base_uri": "https://localhost:8080/"
        },
        "id": "C-NviD4u0fzO",
        "outputId": "444fa649-fd95-4e1b-d0d1-33cdc0b54315"
      },
      "source": [
        "#Create one list with all the sentences from all the list of list with sentences\n",
        "sentences = list(itertools.chain(*first_reviews[\"review_sentences\"]))\n",
        "print(f\"Number of total sentences : {len(sentences)}\")"
      ],
      "execution_count": null,
      "outputs": [
        {
          "output_type": "stream",
          "text": [
            "Number of total sentences : 46458\n"
          ],
          "name": "stdout"
        }
      ]
    },
    {
      "cell_type": "markdown",
      "metadata": {
        "id": "tcK4m9ZU0hdS"
      },
      "source": [
        "### Tokenization & Text Encoding\n",
        "This part concerns tokenization and text encoding with TensorFlow modules :\n",
        "\n",
        "*(i) Build the token vocabulary* <br>\n",
        "*(ii) Build a text encoder relying each word to an index, and thus each text to a sequence of word indices* (```list```) <br>\n",
        "*(iii) Build a TensorFlow dataset for word2vec training*\n",
        "\n"
      ]
    },
    {
      "cell_type": "code",
      "metadata": {
        "id": "clgWdmYXXR-j"
      },
      "source": [
        "# Define and fit tokenizer\n",
        "tokenizer = tf.keras.preprocessing.text.Tokenizer(filters=' ', char_level=False)\n",
        "tokenizer.fit_on_texts(sentences)"
      ],
      "execution_count": null,
      "outputs": []
    },
    {
      "cell_type": "code",
      "metadata": {
        "colab": {
          "base_uri": "https://localhost:8080/",
          "height": 37
        },
        "id": "2xESiahsgjLX",
        "outputId": "2cc4b65a-65d8-429a-823a-b1dc80b92bc1"
      },
      "source": [
        "sentences[0]"
      ],
      "execution_count": null,
      "outputs": [
        {
          "output_type": "execute_result",
          "data": {
            "application/vnd.google.colaboratory.intrinsic+json": {
              "type": "string"
            },
            "text/plain": [
              "'My girlfriend and I enjoyed a fantastic meal at Bokan, just before Bonfire night.'"
            ]
          },
          "metadata": {
            "tags": []
          },
          "execution_count": 41
        }
      ]
    },
    {
      "cell_type": "markdown",
      "metadata": {
        "id": "MLRUO4TahOtY"
      },
      "source": [
        "**Question** : use *texts_to_sequences* method of our tokenizer to get sequences from sentences."
      ]
    },
    {
      "cell_type": "code",
      "metadata": {
        "colab": {
          "base_uri": "https://localhost:8080/"
        },
        "id": "w0HTCETChKl2",
        "outputId": "bcdc76d0-3f41-4311-caf8-76d786ae5b35"
      },
      "source": [
        "sequences = tokenizer.texts_to_sequences(sentences) \n",
        "print(first_reviews[\"review_sentences\"][0][0], sentences[0], sequences[0], sep=\"\\n\\n\")"
      ],
      "execution_count": null,
      "outputs": [
        {
          "output_type": "stream",
          "text": [
            "0    [My girlfriend and I enjoyed a fantastic meal ...\n",
            "0    [For the last 9 years I’ve been working in Eas...\n",
            "Name: review_sentences, dtype: object\n",
            "\n",
            "My girlfriend and I enjoyed a fantastic meal at Bokan, just before Bonfire night.\n",
            "\n",
            "[20, 756, 2, 8, 116, 3, 102, 74, 33, 3646, 60, 170, 5830, 380]\n"
          ],
          "name": "stdout"
        }
      ]
    },
    {
      "cell_type": "markdown",
      "metadata": {
        "id": "IE3p7FbchlX6"
      },
      "source": [
        "**Question** : plot the distribution of the number of indices per sequence. <br>\n",
        "For the same reasons as above, it is important to know length distribution of sentences/sequences."
      ]
    },
    {
      "cell_type": "code",
      "metadata": {
        "colab": {
          "base_uri": "https://localhost:8080/",
          "height": 336
        },
        "id": "-lAY2W09XR-k",
        "outputId": "4fa3c195-49b4-4a45-946b-3579329ff03e"
      },
      "source": [
        "# Check the distribution of the number of indices per sequence\n",
        "x = plt.figure(figsize=(12,5))\n",
        "sns.distplot([len(x) for x in sequences])\n",
        "plt.title('Number of indices per sequence')\n",
        "plt.show()"
      ],
      "execution_count": null,
      "outputs": [
        {
          "output_type": "display_data",
          "data": {
            "image/png": "[encoded data removed]",
            "text/plain": [
              "<Figure size 864x360 with 1 Axes>"
            ]
          },
          "metadata": {
            "tags": [],
            "needs_background": "light"
          }
        }
      ]
    },
    {
      "cell_type": "markdown",
      "metadata": {
        "id": "Ro2yYodZXR-k"
      },
      "source": [
        "# 1. Train our own word embeddings \n",
        "\n",
        "## Negative Sampling Skipgram\n",
        "Preprocessing function which generates skip-gram pairs with negative sampling for a list of sequences (int-encoded sentences) based on window size, number of negative samples and (tokenizer) vocabulary size."
      ]
    },
    {
      "cell_type": "code",
      "metadata": {
        "colab": {
          "base_uri": "https://localhost:8080/"
        },
        "id": "NGxcevNPXR-k",
        "outputId": "55c3c060-0fdb-4fd7-dba6-cb07646e2108"
      },
      "source": [
        "max(tokenizer.index_word.keys())"
      ],
      "execution_count": null,
      "outputs": [
        {
          "output_type": "execute_result",
          "data": {
            "text/plain": [
              "27946"
            ]
          },
          "metadata": {
            "tags": []
          },
          "execution_count": 44
        }
      ]
    },
    {
      "cell_type": "markdown",
      "metadata": {
        "id": "L4YLQmzAXR-k"
      },
      "source": [
        "## Generate training data for word2vec\n",
        "\n",
        "*(i) Define a sampling table for words in vocabulary, see [make_sampling_table](https://www.tensorflow.org/api_docs/python/tf/keras/preprocessing/sequence/make_sampling_table)* <br>\n",
        "*(ii) For each sequence (tokenized/indexed sentence), run sliding process (window) and appropriate word sampling to build positive skip-gram word pairs* <br>\n",
        "*(iii) Iterate over each positive skip-gram pair to produce training examples with positive context word and negative samples, building corresponding labels.* <br>\n",
        "*(iv) Returns overall combinations of (target word, context word, negative words)*"
      ]
    },
    {
      "cell_type": "code",
      "metadata": {
        "id": "zU3TWBxiXR-l"
      },
      "source": [
        "\n",
        "def generate_training_data(sequences, window_size, num_ns, vocab_size, seed=42):\n",
        "    # Elements of each training example are appended to these lists.\n",
        "    targets, contexts, labels = [], [], []\n",
        "\n",
        "    # Build the sampling table for vocab_size tokens.\n",
        "    sampling_table = tf.keras.preprocessing.sequence.make_sampling_table(vocab_size)\n",
        "\n",
        "    # Iterate over all sequences (sentences) in dataset.\n",
        "    for sequence in tqdm.notebook.tqdm(sequences):\n",
        "\n",
        "        # Generate positive skip-gram pairs for a sequence (sentence).\n",
        "        positive_skip_grams, _ = tf.keras.preprocessing.sequence.skipgrams(\n",
        "            sequence, \n",
        "            vocabulary_size=vocab_size,\n",
        "            sampling_table=sampling_table,\n",
        "            window_size=window_size,\n",
        "            negative_samples=0\n",
        "        )\n",
        "\n",
        "        # Iterate over each positive skip-gram pair to produce training examples \n",
        "        # with positive context word and negative samples.\n",
        "        for target_word, context_word in positive_skip_grams:\n",
        "            context_class = tf.expand_dims(tf.constant([context_word], dtype=\"int64\"), 1)\n",
        "            negative_sampling_candidates, _, _ = tf.random.log_uniform_candidate_sampler(\n",
        "                true_classes=context_class,\n",
        "                num_true=1, \n",
        "                num_sampled=num_ns, \n",
        "                unique=True, \n",
        "                range_max=vocab_size, \n",
        "                seed=seed, \n",
        "                name=\"negative_sampling\"\n",
        "            )\n",
        "\n",
        "            # Build context and label vectors (for one target word)\n",
        "            negative_sampling_candidates = tf.expand_dims(negative_sampling_candidates, 1)\n",
        "\n",
        "            context = tf.concat([context_class, negative_sampling_candidates], 0)\n",
        "            label = tf.constant([1] + [0]*num_ns, dtype=\"int64\")\n",
        "\n",
        "            # Append each element from the training example to global lists.\n",
        "            targets.append(target_word)\n",
        "            contexts.append(context)\n",
        "            labels.append(label)\n",
        "\n",
        "    return targets, contexts, labels"
      ],
      "execution_count": null,
      "outputs": []
    },
    {
      "cell_type": "markdown",
      "metadata": {
        "id": "mcdWsNb778TQ"
      },
      "source": [
        "**Question** : Build training data using ```window_size=2``` and number of negative samples per positive pair ```num_ns=4```. "
      ]
    },
    {
      "cell_type": "code",
      "metadata": {
        "colab": {
          "base_uri": "https://localhost:8080/",
          "height": 83,
          "referenced_widgets": [
            "cf63e1a18a4d4c688659be11b7b31b9a",
            "9220fe09967742f0a0cbad91d83d3f1a",
            "7f741df6746b4bdaaacbb827d7823f03",
            "c4b5dcfdeb1145fabb044e40ea7cb81a",
            "0b97878af68b419789a5965def005053",
            "f1927aca6eea4a60930a739fd513529d",
            "40da6cfe9128435e924355635badbbf2",
            "5589959cad2f4c3585d1f7532b7e090a"
          ]
        },
        "id": "IwgqAlDbXR-l",
        "outputId": "26a384ef-9bad-47fb-bbc7-405b72415e34"
      },
      "source": [
        "targets, contexts, labels = generate_training_data(\n",
        "    sequences=sequences, \n",
        "    window_size=2, \n",
        "    num_ns=4, \n",
        "    vocab_size=max(tokenizer.index_word.keys())+1 # vocab size + 1 for padding\n",
        ")\n",
        "\n",
        "print(len(targets), len(contexts), len(labels))"
      ],
      "execution_count": null,
      "outputs": [
        {
          "output_type": "display_data",
          "data": {
            "application/vnd.jupyter.widget-view+json": {
              "model_id": "cf63e1a18a4d4c688659be11b7b31b9a",
              "version_minor": 0,
              "version_major": 2
            },
            "text/plain": [
              "HBox(children=(FloatProgress(value=0.0, max=46458.0), HTML(value='')))"
            ]
          },
          "metadata": {
            "tags": []
          }
        },
        {
          "output_type": "stream",
          "text": [
            "\n",
            "332994 332994 332994\n"
          ],
          "name": "stdout"
        }
      ]
    },
    {
      "cell_type": "code",
      "metadata": {
        "colab": {
          "base_uri": "https://localhost:8080/"
        },
        "id": "My6BD4zjz32w",
        "outputId": "a95532a6-3af1-4195-93b7-ffb268fb71f7"
      },
      "source": [
        "targets[0], contexts[0]"
      ],
      "execution_count": null,
      "outputs": [
        {
          "output_type": "execute_result",
          "data": {
            "text/plain": [
              "(5830, <tf.Tensor: shape=(5, 1), dtype=int64, numpy=\n",
              " array([[  60],\n",
              "        [ 559],\n",
              "        [  39],\n",
              "        [3899],\n",
              "        [ 147]])>)"
            ]
          },
          "metadata": {
            "tags": []
          },
          "execution_count": 47
        }
      ]
    },
    {
      "cell_type": "markdown",
      "metadata": {
        "id": "ovE-2VTfXR-m"
      },
      "source": [
        "## Define TensorFlow dataset\n",
        "Define valid TensorFlow dataset from targets/contexts/labels iterable objects.\n",
        "Set two parameters : \n",
        "* *BUFFER_SIZE*\n",
        "* *BATCH_SIZE*\n",
        "\n",
        "*BATCH_SIZE* can be particularly important for making training efficient. Note that *BATCH_SIZE* must be obviously lower than dataset size."
      ]
    },
    {
      "cell_type": "code",
      "metadata": {
        "colab": {
          "base_uri": "https://localhost:8080/"
        },
        "id": "Scph45BfXR-m",
        "outputId": "16d8bae9-c13d-4d77-c037-00c6d9dbabc7"
      },
      "source": [
        "#BATCH_SIZE = 1024\n",
        "#BUFFER_SIZE = 10000\n",
        "\n",
        "BATCH_SIZE = 64\n",
        "BUFFER_SIZE = 100\n",
        "\n",
        "dataset = tf.data.Dataset.from_tensor_slices(((targets, contexts), labels))\n",
        "dataset = dataset.shuffle(BUFFER_SIZE).batch(BATCH_SIZE, drop_remainder=True)\n",
        "print(dataset)"
      ],
      "execution_count": null,
      "outputs": [
        {
          "output_type": "stream",
          "text": [
            "<BatchDataset shapes: (((64,), (64, 5, 1)), (64, 5)), types: ((tf.int32, tf.int64), tf.int64)>\n"
          ],
          "name": "stdout"
        }
      ]
    },
    {
      "cell_type": "markdown",
      "metadata": {
        "id": "S0TMNJXaXR-m"
      },
      "source": [
        "Define Skipgram model"
      ]
    },
    {
      "cell_type": "code",
      "metadata": {
        "id": "bZA7iTnnXR-m"
      },
      "source": [
        "class Skipgram(tf.keras.Model):\n",
        "    \"\"\"Negative Sampling Skigpram implementation.\n",
        "\n",
        "    ```python\n",
        "    w2v = Skipgram(vocab_size=4096, embedding_dim=128)\n",
        "    ````\n",
        "    \"\"\"\n",
        "    def __init__(self, vocab_size, embedding_dim):\n",
        "        \"\"\"Skigpram class constructor.\n",
        "\n",
        "        Parameters\n",
        "        ----------\n",
        "        vocab_size: int.\n",
        "            Size of the vocabulary.\n",
        "\n",
        "        embedding_dim: int.\n",
        "            Dimension of trained word2vec Skipgram embeddings.\n",
        "\n",
        "        \"\"\"\n",
        "        super(Skipgram, self).__init__()\n",
        "        self.target_embedding = tf.keras.layers.Embedding(\n",
        "            vocab_size, \n",
        "            embedding_dim,\n",
        "            input_length=1,\n",
        "            name=\"w2v_embedding\",\n",
        "        )\n",
        "        self.context_embedding = tf.keras.layers.Embedding(\n",
        "            vocab_size, \n",
        "            embedding_dim, \n",
        "            input_length=4+1, # number of negative samples = 4\n",
        "            name=\"context_embedding\",\n",
        "        ) \n",
        "        self.dots = tf.keras.layers.Dot(axes=(3,2))\n",
        "        self.flatten = tf.keras.layers.Flatten()\n",
        "\n",
        "    def call(self, pair):\n",
        "        \"\"\"Model forward method.\n",
        "        \"\"\"\n",
        "        target, context = pair\n",
        "        we = self.target_embedding(target)\n",
        "        ce = self.context_embedding(context)\n",
        "        dots = self.dots([ce, we])\n",
        "        \n",
        "        return self.flatten(dots)"
      ],
      "execution_count": null,
      "outputs": []
    },
    {
      "cell_type": "markdown",
      "metadata": {
        "id": "8dnLCjOPXR-m"
      },
      "source": [
        "Define objective and training"
      ]
    },
    {
      "cell_type": "code",
      "metadata": {
        "id": "v-zUEfd1XR-n"
      },
      "source": [
        "embedding_dim = 128\n",
        "\n",
        "word2vec = Skipgram(vocab_size=max(tokenizer.index_word.keys())+1, embedding_dim=128)\n",
        "word2vec.compile(\n",
        "    optimizer=\"adam\",\n",
        "    loss=tf.keras.losses.CategoricalCrossentropy(from_logits=True),\n",
        "    metrics=[\"accuracy\"]\n",
        ")"
      ],
      "execution_count": null,
      "outputs": []
    },
    {
      "cell_type": "code",
      "metadata": {
        "colab": {
          "base_uri": "https://localhost:8080/"
        },
        "id": "mQRseIwIXR-n",
        "outputId": "20d338c1-3bdf-4d08-ff15-bf9c96987844"
      },
      "source": [
        "word2vec.fit(dataset, epochs=3)"
      ],
      "execution_count": null,
      "outputs": [
        {
          "output_type": "stream",
          "text": [
            "Epoch 1/3\n",
            "5203/5203 [==============================] - 302s 57ms/step - loss: 1.5436 - accuracy: 0.3080\n",
            "Epoch 2/3\n",
            "5203/5203 [==============================] - 300s 58ms/step - loss: 1.2086 - accuracy: 0.5756\n",
            "Epoch 3/3\n",
            "5203/5203 [==============================] - 298s 57ms/step - loss: 0.8893 - accuracy: 0.7160\n"
          ],
          "name": "stdout"
        },
        {
          "output_type": "execute_result",
          "data": {
            "text/plain": [
              "<tensorflow.python.keras.callbacks.History at 0x7f1c73686950>"
            ]
          },
          "metadata": {
            "tags": []
          },
          "execution_count": 51
        }
      ]
    },
    {
      "cell_type": "code",
      "metadata": {
        "colab": {
          "base_uri": "https://localhost:8080/"
        },
        "id": "-RQrfBq8n_aM",
        "outputId": "74fdd3e2-619a-4075-8b3d-1f8613032fdc"
      },
      "source": [
        "word2vec.summary()"
      ],
      "execution_count": null,
      "outputs": [
        {
          "output_type": "stream",
          "text": [
            "Model: \"skipgram\"\n",
            "_________________________________________________________________\n",
            "Layer (type)                 Output Shape              Param #   \n",
            "=================================================================\n",
            "w2v_embedding (Embedding)    multiple                  3577216   \n",
            "_________________________________________________________________\n",
            "context_embedding (Embedding multiple                  3577216   \n",
            "_________________________________________________________________\n",
            "dot (Dot)                    multiple                  0         \n",
            "_________________________________________________________________\n",
            "flatten (Flatten)            multiple                  0         \n",
            "=================================================================\n",
            "Total params: 7,154,432\n",
            "Trainable params: 7,154,432\n",
            "Non-trainable params: 0\n",
            "_________________________________________________________________\n"
          ],
          "name": "stdout"
        }
      ]
    },
    {
      "cell_type": "markdown",
      "metadata": {
        "id": "SxRlDbjSXR-n"
      },
      "source": [
        "## Word Embeddings & Visualization"
      ]
    },
    {
      "cell_type": "markdown",
      "metadata": {
        "id": "tcTRrWCbXR-n"
      },
      "source": [
        "word2vec.summary()"
      ]
    },
    {
      "cell_type": "code",
      "metadata": {
        "colab": {
          "base_uri": "https://localhost:8080/"
        },
        "id": "8QhfXxzdXR-n",
        "outputId": "a6ebe382-3944-4748-a7dc-406ecbe25da0"
      },
      "source": [
        "pretrained_weights = word2vec.get_layer('w2v_embedding').get_weights()[0]\n",
        "pretrained_weights.shape"
      ],
      "execution_count": null,
      "outputs": [
        {
          "output_type": "execute_result",
          "data": {
            "text/plain": [
              "(27947, 128)"
            ]
          },
          "metadata": {
            "tags": []
          },
          "execution_count": 53
        }
      ]
    },
    {
      "cell_type": "markdown",
      "metadata": {
        "id": "sBNoZhO9XR-n"
      },
      "source": [
        "Let's now visualize the embedding space, in 2 or 3 dimension. We could use a dimensionality reduction method such as PCA, T-SNE or UMAP.\n",
        "\n",
        "**Question** : after defining PCA object, use *fit_transform* method to get 3D-reduced vectors of word embeddings for visualization and print explained variance ratio."
      ]
    },
    {
      "cell_type": "code",
      "metadata": {
        "id": "m0CCxOq9XR-o"
      },
      "source": [
        "def do_pca(pretrained_weights):\n",
        "    pca = decomposition.PCA(n_components=3)\n",
        "    reduced_weights = pca.fit_transform(pretrained_weights)\n",
        "    return pca, reduced_weights\n",
        "\n",
        "pca, reduced_weights = do_pca(pretrained_weights)\n",
        "print(reduced_weights.shape)\n",
        "print(pca.explained_variance_ratio_)"
      ],
      "execution_count": null,
      "outputs": []
    },
    {
      "cell_type": "code",
      "metadata": {
        "id": "ulGYQw6sXR-o"
      },
      "source": [
        "df_pca = pd.DataFrame(data=reduced_weights, columns=[\"pca_1\", \"pca_2\", \"pca_3\"])\n",
        "df_pca[\"word\"] = [\"<pad>\"] + list(tokenizer.word_index.keys())"
      ],
      "execution_count": null,
      "outputs": []
    },
    {
      "cell_type": "code",
      "metadata": {
        "id": "TLMFvU7hXR-o"
      },
      "source": [
        "fig = px.scatter_3d(\n",
        "    df_pca, \n",
        "    x=\"pca_1\", \n",
        "    y=\"pca_2\", \n",
        "    z=\"pca_3\",\n",
        "    hover_name=\"word\",\n",
        "    template=\"plotly_white\"\n",
        ")\n",
        "fig.update_layout(height=700, width=700)\n",
        "fig.show()"
      ],
      "execution_count": null,
      "outputs": []
    },
    {
      "cell_type": "markdown",
      "metadata": {
        "id": "lKkhvGHoi0lL"
      },
      "source": [
        "**Question** : explore visual representations and similarities of pretrained word2vec embeddings using convenient visualizer. <br>\n",
        "To get a better 3D representation, we can use the [TensorFlow Embedding Projector](https://projector.tensorflow.org/). To do that, we save word2vec embeddings (*vecs.tsv* + *meta.tsv*) as following to load them in the projector :"
      ]
    },
    {
      "cell_type": "code",
      "metadata": {
        "id": "BmvTACIskSpx"
      },
      "source": [
        "out_v = io.open('vecs.tsv', 'w', encoding='utf-8')\n",
        "out_m = io.open('meta.tsv', 'w', encoding='utf-8')\n",
        "\n",
        "for idx, word in tokenizer.index_word.items():\n",
        "    \n",
        "    vec = pretrained_weights[idx] # first idx is 1 : skip 0, it's padding.\n",
        "    out_m.write(word + \"\\n\")\n",
        "    out_v.write('\\t'.join([str(x) for x in vec]) + \"\\n\")\n",
        "    \n",
        "out_v.close()\n",
        "out_m.close()"
      ],
      "execution_count": null,
      "outputs": []
    },
    {
      "cell_type": "markdown",
      "metadata": {
        "id": "pwX6qdbUXR-o"
      },
      "source": [
        "## 2. Train a sentiment model \n",
        "### Using your pre trained embeddings train a simple rating Classifier\n",
        "\n",
        "Our learned word embeddings can be used to represent the words of a text and to build a text representation. This text representation will be useful for classifcation.\n"
      ]
    },
    {
      "cell_type": "code",
      "metadata": {
        "id": "KOCekhToXR-o",
        "colab": {
          "base_uri": "https://localhost:8080/"
        },
        "outputId": "8bbc8a6e-d3f5-4c1e-ba98-7b41c1676e7d"
      },
      "source": [
        "first_reviews[\"review_sentences\"].shape"
      ],
      "execution_count": null,
      "outputs": [
        {
          "output_type": "execute_result",
          "data": {
            "text/plain": [
              "(12866,)"
            ]
          },
          "metadata": {
            "tags": []
          },
          "execution_count": 54
        }
      ]
    },
    {
      "cell_type": "markdown",
      "metadata": {
        "id": "i636CJTGmYbm"
      },
      "source": [
        "**Question** : use *join* operator to get single string per review from lists in *review_sentences* column then plot the input length distribution of the sequences (tokenized reviews)."
      ]
    },
    {
      "cell_type": "code",
      "metadata": {
        "colab": {
          "base_uri": "https://localhost:8080/",
          "height": 268
        },
        "id": "QZ-c31wUXR-p",
        "outputId": "f016698c-9f33-4562-e3f7-fe25643515a9"
      },
      "source": [
        "processed_review = [' '.join(rvw) for rvw in first_reviews[\"review_sentences\"]] ### FILL THE BLANK ###\n",
        "processed_sequences = tokenizer.texts_to_sequences(processed_review)\n",
        "\n",
        "plt.hist([len(sequence) for sequence in processed_sequences], bins=50)\n",
        "plt.show()"
      ],
      "execution_count": null,
      "outputs": [
        {
          "output_type": "display_data",
          "data": {
            "image/png": "[encoded data removed]",
            "text/plain": [
              "<Figure size 432x288 with 1 Axes>"
            ]
          },
          "metadata": {
            "tags": [],
            "needs_background": "light"
          }
        }
      ]
    },
    {
      "cell_type": "code",
      "metadata": {
        "colab": {
          "base_uri": "https://localhost:8080/"
        },
        "id": "4y_wdTGbXR-p",
        "outputId": "2b46d2ae-0dae-4776-996d-70cc2cbf9321"
      },
      "source": [
        "padded_processed_sequences = tf.keras.preprocessing.sequence.pad_sequences(processed_sequences, maxlen=180, padding=\"post\")\n",
        "padded_processed_sequences.shape"
      ],
      "execution_count": null,
      "outputs": [
        {
          "output_type": "execute_result",
          "data": {
            "text/plain": [
              "(12866, 180)"
            ]
          },
          "metadata": {
            "tags": []
          },
          "execution_count": 57
        }
      ]
    },
    {
      "cell_type": "code",
      "metadata": {
        "colab": {
          "base_uri": "https://localhost:8080/"
        },
        "id": "GJYSYpDGXR-p",
        "outputId": "6e535c23-f54c-42db-e039-8733880633e3"
      },
      "source": [
        "first_reviews.rating.value_counts()"
      ],
      "execution_count": null,
      "outputs": [
        {
          "output_type": "execute_result",
          "data": {
            "text/plain": [
              "5    10641\n",
              "4     1373\n",
              "3      423\n",
              "1      223\n",
              "2      206\n",
              "Name: rating, dtype: int64"
            ]
          },
          "metadata": {
            "tags": []
          },
          "execution_count": 58
        }
      ]
    },
    {
      "cell_type": "code",
      "metadata": {
        "colab": {
          "base_uri": "https://localhost:8080/"
        },
        "id": "v53VhTXsXR-q",
        "outputId": "06dff1a1-4527-4812-9208-76a4168d425b"
      },
      "source": [
        "first_reviews['usable_rating'] = first_reviews['rating'].apply(lambda r: int(r)-1)\n",
        "first_reviews.usable_rating.value_counts()"
      ],
      "execution_count": null,
      "outputs": [
        {
          "output_type": "execute_result",
          "data": {
            "text/plain": [
              "4    10641\n",
              "3     1373\n",
              "2      423\n",
              "0      223\n",
              "1      206\n",
              "Name: usable_rating, dtype: int64"
            ]
          },
          "metadata": {
            "tags": []
          },
          "execution_count": 59
        }
      ]
    },
    {
      "cell_type": "markdown",
      "metadata": {
        "id": "1mLnXh11XR-q"
      },
      "source": [
        "Build datasets"
      ]
    },
    {
      "cell_type": "code",
      "metadata": {
        "id": "w20AkIZLXR-q"
      },
      "source": [
        "rating_labels = tf.keras.utils.to_categorical(first_reviews['usable_rating'], num_classes=5, dtype='float32')\n",
        "X_train, X_test, y_train, y_test = sklearn.model_selection.train_test_split(padded_processed_sequences, rating_labels, test_size=0.3)"
      ],
      "execution_count": null,
      "outputs": []
    },
    {
      "cell_type": "code",
      "metadata": {
        "id": "1_Cj5xN_XR-q"
      },
      "source": [
        "train_ds = tf.data.Dataset.from_tensor_slices((X_train, y_train))\n",
        "test_ds = tf.data.Dataset.from_tensor_slices((X_test, y_test))\n",
        "\n",
        "train_ds = train_ds.shuffle(BUFFER_SIZE).batch(BATCH_SIZE)\n",
        "test_ds = test_ds.batch(BATCH_SIZE)"
      ],
      "execution_count": null,
      "outputs": []
    },
    {
      "cell_type": "markdown",
      "metadata": {
        "id": "4xPEyNS5XR-q"
      },
      "source": [
        "\n",
        "**Simple rating Model architecture** is defined by :\n",
        "1. An embedding layer initialized with pretrained word2vec embeddings.\n",
        "2. A dense layer without particular activation function for linear projection of the previous embedding vectors.\n",
        "3. A global average pooling (1D).\n",
        "4. A final dense layer for linear projection in a $d$-dimensional space for sentiment prediction, with $d$ the number sentiments/classes (here 5).\n"
      ]
    },
    {
      "cell_type": "code",
      "metadata": {
        "id": "8LHBjU_hXR-q"
      },
      "source": [
        "simple_rating_model = tf.keras.Sequential([\n",
        "    tf.keras.layers.Embedding(\n",
        "        max(tokenizer.index_word.keys())+1, \n",
        "        128, \n",
        "        embeddings_initializer=tf.keras.initializers.Constant(pretrained_weights), # weights=[pretrained_weights] \n",
        "        trainable=True\n",
        "    ),\n",
        "    tf.keras.layers.Dense(64),\n",
        "    tf.keras.layers.GlobalAveragePooling1D(data_format='channels_last'),\n",
        "    tf.keras.layers.Dense(5)\n",
        "])\n",
        "\n",
        "simple_rating_model.compile(\n",
        "    loss=tf.keras.losses.CategoricalCrossentropy(from_logits=True),\n",
        "    optimizer=\"adam\",\n",
        "    metrics=[\"accuracy\"]\n",
        ")"
      ],
      "execution_count": null,
      "outputs": []
    },
    {
      "cell_type": "markdown",
      "metadata": {
        "id": "LpIVaBJaXR-q"
      },
      "source": [
        "Train model"
      ]
    },
    {
      "cell_type": "code",
      "metadata": {
        "id": "GTQJbNo7XR-r",
        "colab": {
          "base_uri": "https://localhost:8080/"
        },
        "outputId": "2bf85d5c-113e-4498-9efc-febe7b58ea6e"
      },
      "source": [
        "simple_history = simple_rating_model.fit(\n",
        "    train_ds, \n",
        "    epochs=20, \n",
        "    validation_data=test_ds\n",
        ")"
      ],
      "execution_count": null,
      "outputs": [
        {
          "output_type": "stream",
          "text": [
            "Epoch 1/20\n",
            "141/141 [==============================] - 6s 39ms/step - loss: 0.9246 - accuracy: 0.8144 - val_loss: 0.6345 - val_accuracy: 0.8179\n",
            "Epoch 2/20\n",
            "141/141 [==============================] - 5s 36ms/step - loss: 0.5994 - accuracy: 0.8287 - val_loss: 0.5986 - val_accuracy: 0.8181\n",
            "Epoch 3/20\n",
            "141/141 [==============================] - 5s 36ms/step - loss: 0.5501 - accuracy: 0.8298 - val_loss: 0.5433 - val_accuracy: 0.8228\n",
            "Epoch 4/20\n",
            "141/141 [==============================] - 5s 37ms/step - loss: 0.4740 - accuracy: 0.8396 - val_loss: 0.5102 - val_accuracy: 0.8275\n",
            "Epoch 5/20\n",
            "141/141 [==============================] - 5s 39ms/step - loss: 0.4111 - accuracy: 0.8564 - val_loss: 0.4984 - val_accuracy: 0.8311\n",
            "Epoch 6/20\n",
            "141/141 [==============================] - 5s 37ms/step - loss: 0.3589 - accuracy: 0.8698 - val_loss: 0.5015 - val_accuracy: 0.8264\n",
            "Epoch 7/20\n",
            "141/141 [==============================] - 5s 37ms/step - loss: 0.3076 - accuracy: 0.8907 - val_loss: 0.5165 - val_accuracy: 0.8272\n",
            "Epoch 8/20\n",
            "141/141 [==============================] - 5s 37ms/step - loss: 0.2678 - accuracy: 0.9037 - val_loss: 0.5402 - val_accuracy: 0.8187\n",
            "Epoch 9/20\n",
            "141/141 [==============================] - 5s 37ms/step - loss: 0.2352 - accuracy: 0.9193 - val_loss: 0.5728 - val_accuracy: 0.8176\n",
            "Epoch 10/20\n",
            "141/141 [==============================] - 5s 37ms/step - loss: 0.2036 - accuracy: 0.9285 - val_loss: 0.6081 - val_accuracy: 0.8137\n",
            "Epoch 11/20\n",
            "141/141 [==============================] - 5s 37ms/step - loss: 0.1773 - accuracy: 0.9387 - val_loss: 0.6455 - val_accuracy: 0.8023\n",
            "Epoch 12/20\n",
            "141/141 [==============================] - 5s 37ms/step - loss: 0.1564 - accuracy: 0.9482 - val_loss: 0.6846 - val_accuracy: 0.7974\n",
            "Epoch 13/20\n",
            "141/141 [==============================] - 5s 38ms/step - loss: 0.1355 - accuracy: 0.9564 - val_loss: 0.7298 - val_accuracy: 0.8109\n",
            "Epoch 14/20\n",
            "141/141 [==============================] - 5s 37ms/step - loss: 0.1183 - accuracy: 0.9604 - val_loss: 0.7775 - val_accuracy: 0.8010\n",
            "Epoch 15/20\n",
            "141/141 [==============================] - 5s 37ms/step - loss: 0.1026 - accuracy: 0.9683 - val_loss: 0.8263 - val_accuracy: 0.8000\n",
            "Epoch 16/20\n",
            "141/141 [==============================] - 5s 37ms/step - loss: 0.0874 - accuracy: 0.9738 - val_loss: 0.8773 - val_accuracy: 0.7920\n",
            "Epoch 17/20\n",
            "141/141 [==============================] - 5s 38ms/step - loss: 0.0766 - accuracy: 0.9796 - val_loss: 0.9294 - val_accuracy: 0.7951\n",
            "Epoch 18/20\n",
            "141/141 [==============================] - 5s 37ms/step - loss: 0.0665 - accuracy: 0.9845 - val_loss: 0.9858 - val_accuracy: 0.7899\n",
            "Epoch 19/20\n",
            "141/141 [==============================] - 5s 37ms/step - loss: 0.0580 - accuracy: 0.9860 - val_loss: 1.0583 - val_accuracy: 0.7718\n",
            "Epoch 20/20\n",
            "141/141 [==============================] - 5s 37ms/step - loss: 0.0513 - accuracy: 0.9879 - val_loss: 1.0969 - val_accuracy: 0.7917\n"
          ],
          "name": "stdout"
        }
      ]
    },
    {
      "cell_type": "code",
      "metadata": {
        "id": "tpMIqtbor282",
        "colab": {
          "base_uri": "https://localhost:8080/",
          "height": 300
        },
        "outputId": "d32dcabd-a20d-41f8-91b2-0ccfc85b846f"
      },
      "source": [
        "# history of accuracy \n",
        "plt.plot(simple_history.history['accuracy'], label='accuracy')\n",
        "plt.plot(simple_history.history['val_accuracy'], label = 'val_accuracy')\n",
        "plt.xlabel('Epoch')\n",
        "plt.ylabel('Accuracy')\n",
        "plt.ylim([0.4, 0.9])\n",
        "plt.legend(loc='lower right')"
      ],
      "execution_count": null,
      "outputs": [
        {
          "output_type": "execute_result",
          "data": {
            "text/plain": [
              "<matplotlib.legend.Legend at 0x7f1bf94c05d0>"
            ]
          },
          "metadata": {
            "tags": []
          },
          "execution_count": 64
        },
        {
          "output_type": "display_data",
          "data": {
            "image/png": "[encoded data removed]",
            "text/plain": [
              "<Figure size 432x288 with 1 Axes>"
            ]
          },
          "metadata": {
            "tags": [],
            "needs_background": "light"
          }
        }
      ]
    },
    {
      "cell_type": "code",
      "metadata": {
        "id": "uRIn-qiDsd0b",
        "colab": {
          "base_uri": "https://localhost:8080/"
        },
        "outputId": "cddc03ea-cacb-4714-bce1-06b3c293a3f8"
      },
      "source": [
        "test_loss_simple, test_acc_simple = simple_rating_model.evaluate(X_test,  y_test, verbose=2)\n",
        "print(\"The test Accuracy for this first model is :\", test_acc_simple)"
      ],
      "execution_count": null,
      "outputs": [
        {
          "output_type": "stream",
          "text": [
            "121/121 - 0s - loss: 1.0969 - accuracy: 0.7917\n",
            "The test Accuracy for this first model is : 0.791709840297699\n"
          ],
          "name": "stdout"
        }
      ]
    },
    {
      "cell_type": "markdown",
      "metadata": {
        "id": "ScQyNSjrXR-r"
      },
      "source": [
        "\n",
        "## 3. Upgrade your sentiment model with attention mechanism through a Hierarchical Attention Network (HAN)\n",
        "\n",
        "<img src=\"https://drive.google.com/uc?id=1Q4H1MlBZ6ZasBCHxlARc25T9mBFRctiy\"/>\n",
        "<ID of image>\n",
        "\n",
        "\n",
        "Preprocessing\n",
        "\n",
        "For Hierarchical Attention Network, text preprocessing and inputs differ from the previous method. Here, the input is not just a sequence of all integers corresponding to all words/tokens of the review. Working at a sentence-level, the HAN input is a sequence of sequences (tokenized sentences) of integers. \n",
        "\n",
        "Thus, a such architecture needs a particular preprocessing (padding and truncating)."
      ]
    },
    {
      "cell_type": "code",
      "metadata": {
        "id": "_agH_yu0XR-r"
      },
      "source": [
        "def review_preprocessing(review, words_maxlen=50, sentences_maxlen=10, tokenizer=tokenizer):\n",
        "    \"\"\"Preprocessing function to build appropriate padded sequences for HAN.\n",
        "\n",
        "    Parameters\n",
        "    ----------\n",
        "    review: list.\n",
        "        List of sentences (strings) of the review.\n",
        "    \n",
        "    words_maxlen: int.\n",
        "        Maximal length/number of words for a sentence.\n",
        "\n",
        "    sentences_maxlen: int.\n",
        "        Maximal length/number of sentences for a review.\n",
        "\n",
        "    Returns\n",
        "    -------\n",
        "    padded_sequences: tf.Tensor.\n",
        "        Tensor of shape (sentences_maxlen, words_maxlen)\n",
        "    \"\"\"\n",
        "    sequences = tokenizer.texts_to_sequences(review)\n",
        "    padded_sequences = tf.keras.preprocessing.sequence.pad_sequences(sequences, maxlen=words_maxlen, padding=\"post\")\n",
        "\n",
        "    if padded_sequences.shape[0] < sentences_maxlen:\n",
        "        padded_sequences = tf.pad(\n",
        "            padded_sequences, \n",
        "            paddings=tf.constant([[0, sentences_maxlen-padded_sequences.shape[0]], [0, 0]])\n",
        "        )\n",
        "    elif padded_sequences.shape[0] > sentences_maxlen:\n",
        "        padded_sequences = padded_sequences[:sentences_maxlen]\n",
        "\n",
        "    assert padded_sequences.shape == (sentences_maxlen, words_maxlen)\n",
        "    return padded_sequences"
      ],
      "execution_count": null,
      "outputs": []
    },
    {
      "cell_type": "code",
      "metadata": {
        "colab": {
          "base_uri": "https://localhost:8080/"
        },
        "id": "2utg0mftXR-r",
        "outputId": "aac0ccc3-e1a1-4d72-d85b-c6b3a15aca1c"
      },
      "source": [
        "print(review_preprocessing(first_reviews[\"review_sentences\"][0]).shape)\n",
        "print(first_reviews[\"review_sentences\"][0])"
      ],
      "execution_count": null,
      "outputs": [
        {
          "output_type": "stream",
          "text": [
            "(10, 50)\n",
            "0    [My girlfriend and I enjoyed a fantastic meal ...\n",
            "0    [For the last 9 years I’ve been working in Eas...\n",
            "Name: review_sentences, dtype: object\n"
          ],
          "name": "stdout"
        }
      ]
    },
    {
      "cell_type": "code",
      "metadata": {
        "colab": {
          "base_uri": "https://localhost:8080/",
          "height": 83,
          "referenced_widgets": [
            "4422ee59d8a9411b937a258f7dd79c50",
            "34c062aa51444284b47c7b1ba7f1dec4",
            "6938949f1fb14d97a664149107aa7464",
            "ef51c287e027425c96f93da25c91fa3c",
            "bf1e4a2d454d454eaf82c4b1f8dc5316",
            "a572a337826249028a2e1743200acef9",
            "731b41dc44b0402a9d9ae31ffb9248b6",
            "eb9bab9fd9214949b22c434bdd8b9ded"
          ]
        },
        "id": "_SqJcZLmXR-r",
        "outputId": "1e17f4ae-e7bf-47ed-ec49-d7adf8663f5c"
      },
      "source": [
        "padded_preprocessed_reviews = [review_preprocessing(review) for review in tqdm.notebook.tqdm(first_reviews[\"review_sentences\"])]\n",
        "padded_preprocessed_reviews = tf.stack(padded_preprocessed_reviews)\n",
        "padded_preprocessed_reviews.shape"
      ],
      "execution_count": null,
      "outputs": [
        {
          "output_type": "display_data",
          "data": {
            "application/vnd.jupyter.widget-view+json": {
              "model_id": "4422ee59d8a9411b937a258f7dd79c50",
              "version_minor": 0,
              "version_major": 2
            },
            "text/plain": [
              "HBox(children=(FloatProgress(value=0.0, max=12866.0), HTML(value='')))"
            ]
          },
          "metadata": {
            "tags": []
          }
        },
        {
          "output_type": "stream",
          "text": [
            "\n"
          ],
          "name": "stdout"
        },
        {
          "output_type": "execute_result",
          "data": {
            "text/plain": [
              "TensorShape([12866, 10, 50])"
            ]
          },
          "metadata": {
            "tags": []
          },
          "execution_count": 68
        }
      ]
    },
    {
      "cell_type": "markdown",
      "metadata": {
        "id": "TTiFNJXwXR-s"
      },
      "source": [
        "Build datasets"
      ]
    },
    {
      "cell_type": "code",
      "metadata": {
        "colab": {
          "base_uri": "https://localhost:8080/"
        },
        "id": "mwmGPjLgXR-s",
        "outputId": "b123d90f-59cd-4b93-dcbb-2e47e435a9bd"
      },
      "source": [
        "X_train, X_test, y_train, y_test = sklearn.model_selection.train_test_split(padded_preprocessed_reviews.numpy(), rating_labels, test_size=0.3)\n",
        "print(\n",
        "    X_train.shape,\n",
        "    X_test.shape, \n",
        "    y_train.shape, \n",
        "    y_test.shape,\n",
        "    sep=\"\\n\"\n",
        ")"
      ],
      "execution_count": null,
      "outputs": [
        {
          "output_type": "stream",
          "text": [
            "(9006, 10, 50)\n",
            "(3860, 10, 50)\n",
            "(9006, 5)\n",
            "(3860, 5)\n"
          ],
          "name": "stdout"
        }
      ]
    },
    {
      "cell_type": "code",
      "metadata": {
        "id": "MGRWD8jkXR-s"
      },
      "source": [
        "#train_ds = tf.data.Dataset.from_tensor_slices((X_train, y_train))\n",
        "#test_ds = tf.data.Dataset.from_tensor_slices((X_test, y_test))\n",
        "\n",
        "train_ds = tf.data.Dataset.from_tensor_slices((padded_preprocessed_reviews.numpy(), rating_labels))\n",
        "\n",
        "train_ds = train_ds.shuffle(BUFFER_SIZE).batch(BATCH_SIZE)\n",
        "test_ds = test_ds.batch(BATCH_SIZE)"
      ],
      "execution_count": null,
      "outputs": []
    },
    {
      "cell_type": "markdown",
      "metadata": {
        "id": "yMF7X_-AXR-s"
      },
      "source": [
        "Let's define our Attention Layer"
      ]
    },
    {
      "cell_type": "code",
      "metadata": {
        "id": "hAxP0Gj0XR-s"
      },
      "source": [
        "class Attention(tf.keras.layers.Layer):\n",
        "    \"\"\"Attention mechanism used in \"Hierarchical Attention Networks for Document Classification\" paper.\n",
        "        \n",
        "    ```python\n",
        "    attention_layer = Attention(units=64)\n",
        "    ```\n",
        "    \"\"\"\n",
        "    def __init__(self, units):\n",
        "        \"\"\"Attention layer constructor.\n",
        "\n",
        "        Parameters\n",
        "        ----------\n",
        "        units: int.\n",
        "            Dimension of the projection space.\n",
        "        \"\"\"\n",
        "        super(Attention, self).__init__()\n",
        "        self.W = tf.keras.layers.Dense(units)\n",
        "        self.u = tf.keras.layers.Dense(1)\n",
        "\n",
        "    def call(self, sequence):\n",
        "        \"\"\"Layer forward method.\n",
        "        \"\"\"\n",
        "        attention_logits = self.u(tf.nn.tanh(self.W(sequence)))\n",
        "        attention_weights = tf.nn.softmax(attention_logits, axis=-2)\n",
        "\n",
        "        weighted_vectors = attention_weights * sequence\n",
        "        context_vector = tf.reduce_sum(weighted_vectors, axis=-2)\n",
        "\n",
        "        return context_vector, attention_weights"
      ],
      "execution_count": null,
      "outputs": []
    },
    {
      "cell_type": "code",
      "metadata": {
        "id": "KPOPpdrBXR-s",
        "colab": {
          "base_uri": "https://localhost:8080/"
        },
        "outputId": "c5e0f911-15da-415c-c426-cfa5f1f4eb7a"
      },
      "source": [
        "batch1 = tf.random.normal((16, 10, 50, 128))\n",
        "batch2 = tf.random.normal((16, 10, 128))\n",
        "\n",
        "attention = Attention(units=64)\n",
        "\n",
        "(att_batch1, weights_batch1), (att_batch2, weights_batch2) = attention(batch1), attention(batch2)\n",
        "print(att_batch1.shape, weights_batch1.shape)\n",
        "print(att_batch2.shape, weights_batch2.shape)"
      ],
      "execution_count": null,
      "outputs": [
        {
          "output_type": "stream",
          "text": [
            "(16, 10, 128) (16, 10, 50, 1)\n",
            "(16, 128) (16, 10, 1)\n"
          ],
          "name": "stdout"
        }
      ]
    },
    {
      "cell_type": "markdown",
      "metadata": {
        "id": "2zcUCgbhXR-s"
      },
      "source": [
        "**Hierarchical Attention Network architecture** is defined by:\n",
        "\n",
        "1. An embedding layer initialized with pretrained word2vec embeddings.\n",
        "2. A sentence encoder : a Bidirectional GRU coupled with an Attention process run on words embeddings.\n",
        "3. A document/review encoder : a Bidirectional GRU coupled with an Attention process run on sentence encoder outputs.\n",
        "4. A final dense layer for linear projection in a $d$-dimensional space for sentiment prediction, with $d$ the number of possible sentiments/classes.\n"
      ]
    },
    {
      "cell_type": "code",
      "metadata": {
        "id": "qJsizhFtYJx6"
      },
      "source": [
        "# Load the TensorBoard notebook extension\n",
        "%load_ext tensorboard"
      ],
      "execution_count": null,
      "outputs": []
    },
    {
      "cell_type": "code",
      "metadata": {
        "id": "V7djzk3dYXrT"
      },
      "source": [
        "import datetime\n",
        "log_dir = \"logs/fit/\" + datetime.datetime.now().strftime(\"%Y%m%d-%H%M%S\")\n",
        "tensorboard_callback = tf.keras.callbacks.TensorBoard(log_dir=log_dir, histogram_freq=1)"
      ],
      "execution_count": null,
      "outputs": []
    },
    {
      "cell_type": "code",
      "metadata": {
        "id": "qSGgVTp-XR-s"
      },
      "source": [
        "class HierarchicalAttentionNetwork(tf.keras.Model):\n",
        "    \"\"\"Hierarchical Attention Network implementation.\n",
        "\n",
        "    Reference :\n",
        "    * Hierarchical Attention Networks for Document Classification : https://www.cs.cmu.edu/~./hovy/papers/16HLT-hierarchical-attention-networks.pdf\n",
        "\n",
        "    \"\"\"\n",
        "    def __init__(self, vocab_size, embedding_dim, gru_units, attention_units, classifier_units, pretrained_weights=None):\n",
        "        \"\"\"Hierarchical Attention Network class constructor.\n",
        "\n",
        "        \"\"\"\n",
        "        super(HierarchicalAttentionNetwork, self).__init__()\n",
        "        \n",
        "        if pretrained_weights is not None:\n",
        "            initializer = tf.keras.initializers.Constant(pretrained_weights)\n",
        "        else:\n",
        "            initializer = \"uniform\"\n",
        "\n",
        "        self.embedding = tf.keras.layers.Embedding(\n",
        "            vocab_size, \n",
        "            embedding_dim, \n",
        "            embeddings_initializer=initializer,\n",
        "            trainable=True\n",
        "        )\n",
        "        self.WordGRU = tf.keras.layers.Bidirectional(\n",
        "            tf.keras.layers.GRU(\n",
        "                units=gru_units,\n",
        "                activation=\"tanh\",\n",
        "                return_sequences=True\n",
        "            ), \n",
        "            merge_mode='concat',\n",
        "        )\n",
        "        #Mask layer\n",
        "        self.Mask = tf.keras.layers.Masking(mask_value=0.)\n",
        "        self.fc = tf.keras.layers.Dense(units=gru_units)\n",
        "        self.WordAttention = Attention(units=attention_units)\n",
        "        self.SentenceGRU = tf.keras.layers.Bidirectional(\n",
        "            tf.keras.layers.GRU(\n",
        "                units=gru_units,\n",
        "                activation=\"tanh\",\n",
        "                return_sequences=True\n",
        "            ), \n",
        "            merge_mode='concat',\n",
        "        )\n",
        "        self.SentenceAttention = Attention(units=attention_units)\n",
        "        #Dropout layer\n",
        "        self.dropout = tf.keras.layers.Dropout(0.8)\n",
        "        #Dense layer with regularization\n",
        "        self.fc = tf.keras.layers.Dense(units=classifier_units, kernel_regularizer=tf.keras.regularizers.l1_l2(l1=0.03, l2=0.02))\n",
        "\n",
        "    def call(self, x):\n",
        "        \"\"\"Model forward method.\n",
        "        \"\"\"\n",
        "        sentences_vectors, _ = self.word_to_sentence_encoder(x)\n",
        "        document_vector, _ = self.sentence_to_document_encoder(sentences_vectors)\n",
        "        return self.fc(document_vector)\n",
        "\n",
        "    def word_to_sentence_encoder(self, x):\n",
        "        \"\"\"Given words from each sentences, \n",
        "           encode the contextual representation of the words from the sentence\n",
        "           with Bidirectional GRU and Attention, and output a sentence_vector\n",
        "        \"\"\"\n",
        "        x = self.embedding(x)\n",
        "        x = tf.keras.layers.TimeDistributed(self.WordGRU)(x)\n",
        "        context_vector, attention_weights = self.WordAttention(x)\n",
        "\n",
        "        return context_vector, attention_weights\n",
        "    \n",
        "    def sentence_to_document_encoder(self, sentences_vectors):\n",
        "        sentences_vectors = self.SentenceGRU(sentences_vectors)\n",
        "        document_vector, attention_weights = self.SentenceAttention(sentences_vectors)\n",
        "        return document_vector, attention_weights"
      ],
      "execution_count": null,
      "outputs": []
    },
    {
      "cell_type": "code",
      "metadata": {
        "id": "OsRWLTtbXR-u"
      },
      "source": [
        "han_model = HierarchicalAttentionNetwork(\n",
        "    vocab_size=max(tokenizer.index_word.keys())+1, \n",
        "    embedding_dim=128, \n",
        "    pretrained_weights=pretrained_weights, \n",
        "    gru_units=32, \n",
        "    attention_units=32, \n",
        "    classifier_units=5\n",
        ")"
      ],
      "execution_count": null,
      "outputs": []
    },
    {
      "cell_type": "code",
      "metadata": {
        "id": "fLes0rYSXR-v"
      },
      "source": [
        "han_model.compile(\n",
        "    loss=tf.keras.losses.CategoricalCrossentropy(from_logits=True),\n",
        "    optimizer=\"adam\",\n",
        "    metrics=['accuracy']\n",
        ")"
      ],
      "execution_count": null,
      "outputs": []
    },
    {
      "cell_type": "code",
      "metadata": {
        "colab": {
          "base_uri": "https://localhost:8080/"
        },
        "id": "9mTrUhmYXR-v",
        "outputId": "0afaa156-0c99-47cf-db28-4cdf01f84acf"
      },
      "source": [
        "reduce_lr = tf.keras.callbacks.ReduceLROnPlateau()\n",
        "\n",
        "han_history = han_model.fit(\n",
        "    train_ds, \n",
        "    epochs=10, \n",
        "    #validation_data=test_ds,\n",
        "    callbacks=[reduce_lr, tensorboard_callback]\n",
        ")"
      ],
      "execution_count": null,
      "outputs": [
        {
          "output_type": "stream",
          "text": [
            "Epoch 1/10\n",
            "202/202 [==============================] - 55s 252ms/step - loss: 2.0347 - accuracy: 0.7847\n",
            "WARNING:tensorflow:Learning rate reduction is conditioned on metric `val_loss` which is not available. Available metrics are: loss,accuracy,lr\n",
            "Epoch 2/10\n",
            "202/202 [==============================] - 49s 242ms/step - loss: 0.9512 - accuracy: 0.7852\n",
            "WARNING:tensorflow:Learning rate reduction is conditioned on metric `val_loss` which is not available. Available metrics are: loss,accuracy,lr\n",
            "Epoch 3/10\n",
            "202/202 [==============================] - 50s 246ms/step - loss: 0.7901 - accuracy: 0.7919\n",
            "WARNING:tensorflow:Learning rate reduction is conditioned on metric `val_loss` which is not available. Available metrics are: loss,accuracy,lr\n",
            "Epoch 4/10\n",
            "202/202 [==============================] - 49s 242ms/step - loss: 0.7123 - accuracy: 0.8117\n",
            "WARNING:tensorflow:Learning rate reduction is conditioned on metric `val_loss` which is not available. Available metrics are: loss,accuracy,lr\n",
            "Epoch 5/10\n",
            "202/202 [==============================] - 49s 242ms/step - loss: 0.6403 - accuracy: 0.8366\n",
            "WARNING:tensorflow:Learning rate reduction is conditioned on metric `val_loss` which is not available. Available metrics are: loss,accuracy,lr\n",
            "Epoch 6/10\n",
            "202/202 [==============================] - 50s 245ms/step - loss: 0.5876 - accuracy: 0.8530\n",
            "WARNING:tensorflow:Learning rate reduction is conditioned on metric `val_loss` which is not available. Available metrics are: loss,accuracy,lr\n",
            "Epoch 7/10\n",
            "202/202 [==============================] - 49s 245ms/step - loss: 0.5575 - accuracy: 0.8638\n",
            "WARNING:tensorflow:Learning rate reduction is conditioned on metric `val_loss` which is not available. Available metrics are: loss,accuracy,lr\n",
            "Epoch 8/10\n",
            "202/202 [==============================] - 49s 242ms/step - loss: 0.5311 - accuracy: 0.8686\n",
            "WARNING:tensorflow:Learning rate reduction is conditioned on metric `val_loss` which is not available. Available metrics are: loss,accuracy,lr\n",
            "Epoch 9/10\n",
            "202/202 [==============================] - 49s 241ms/step - loss: 0.5052 - accuracy: 0.8781\n",
            "WARNING:tensorflow:Learning rate reduction is conditioned on metric `val_loss` which is not available. Available metrics are: loss,accuracy,lr\n",
            "Epoch 10/10\n",
            "202/202 [==============================] - 49s 243ms/step - loss: 0.4948 - accuracy: 0.8806\n",
            "WARNING:tensorflow:Learning rate reduction is conditioned on metric `val_loss` which is not available. Available metrics are: loss,accuracy,lr\n"
          ],
          "name": "stdout"
        }
      ]
    },
    {
      "cell_type": "code",
      "metadata": {
        "id": "ndsnaDtRTYAQ"
      },
      "source": [
        "%tensorboard --logdir logs/fit"
      ],
      "execution_count": null,
      "outputs": []
    },
    {
      "cell_type": "markdown",
      "metadata": {
        "id": "BlCxOxYbXR-v"
      },
      "source": [
        "*Conclusion* :\n",
        "* The simple model is a good baseline\n",
        "* HAN model is much more heavy, with stronger and powerful learning capabilities for training data, involving overfitting risk. Thus it needs regularization (e.g. dropout for instance) for generalization.\n",
        "\n",
        "## Some improvements for hands-on and homework\n",
        "**Consider some (1 or 2) of these suggestions to improve HAN performances** :\n",
        "* Regularization for generalization : dropout, recurrent dropout, L2/L1 regularization\n",
        "* Address unbalacanced data problems : \n",
        "  * For training : oversampling, subsampling, loss weighting, new loss function ?\n",
        "  * For evaluation : consider other metrics than accuracy : precision, recall, f1-score, confusion matrix...\n",
        "* Aggressive padding strategy : introduce masking ?\n",
        "* Iterate with more data, including more validation data"
      ]
    },
    {
      "cell_type": "markdown",
      "metadata": {
        "id": "Qx1q_VDrjRc9"
      },
      "source": [
        "**Model imporvement in our model** \n",
        "\n",
        "We had all the improvement in the previous model\n",
        "\n",
        "*   We had L2/L1 regularization.\n",
        "*   We had a mask.\n",
        "*   We had some dropout layers.\n",
        "*   We iterate with more data, including more validation data.\n",
        "*   We had a reduce on plateau for the optimizer.\n",
        "\n",
        "In fine we improved our model a bit, nevertheless it take a lot more time to run. \n",
        "\n",
        "For the vizualisation we had a tensor board.\n",
        "\n"
      ]
    },
    {
      "cell_type": "markdown",
      "metadata": {
        "id": "uGpCIycjXQh5"
      },
      "source": [
        "\n",
        "# 4. Visualize attention weights to interpet main sentences and words involved in the prediction \n",
        "\n",
        "**Question** : add a new ```document_encoder``` method in HierarchicalAttentionNetwork model which output the document vector and attention weights (sentences weighting) from preprocessed review to determine the most importance sentences.\n",
        "\n",
        "**Bonus** : get word attention weights for each sentence of a review to show the important words of important sentences.\n",
        "\n"
      ]
    },
    {
      "cell_type": "code",
      "metadata": {
        "colab": {
          "base_uri": "https://localhost:8080/"
        },
        "id": "lipP-Pg5aXBH",
        "outputId": "38d0ceae-3691-465a-d0fa-25a73d5a1781"
      },
      "source": [
        "reverse_word_map = dict(map(reversed, tokenizer.word_index.items()))\n",
        "print(sequences[0])\n",
        "print([reverse_word_map[k] for k in sequences[0]])"
      ],
      "execution_count": null,
      "outputs": [
        {
          "output_type": "stream",
          "text": [
            "[20, 756, 2, 8, 116, 3, 102, 74, 33, 3646, 60, 170, 5830, 380]\n",
            "['my', 'girlfriend', 'and', 'i', 'enjoyed', 'a', 'fantastic', 'meal', 'at', 'bokan,', 'just', 'before', 'bonfire', 'night.']\n"
          ],
          "name": "stdout"
        }
      ]
    },
    {
      "cell_type": "code",
      "metadata": {
        "colab": {
          "base_uri": "https://localhost:8080/"
        },
        "id": "CnSqjWDKa-VP",
        "outputId": "95d11f92-1a3e-4dd5-d82d-198746dec72b"
      },
      "source": [
        "padded_preprocessed_reviews.shape"
      ],
      "execution_count": null,
      "outputs": [
        {
          "output_type": "execute_result",
          "data": {
            "text/plain": [
              "TensorShape([12866, 10, 50])"
            ]
          },
          "metadata": {
            "tags": []
          },
          "execution_count": 81
        }
      ]
    },
    {
      "cell_type": "code",
      "metadata": {
        "id": "F0iwfhVXXXUP"
      },
      "source": [
        "X_test = padded_preprocessed_reviews.numpy()\n",
        "\n",
        "context_vector, attention_weights = han_model.word_to_sentence_encoder(X_test[:600])\n",
        "document_vector, attention_weights2 = han_model.sentence_to_document_encoder(context_vector)"
      ],
      "execution_count": null,
      "outputs": []
    },
    {
      "cell_type": "code",
      "metadata": {
        "colab": {
          "base_uri": "https://localhost:8080/",
          "height": 97
        },
        "id": "kyuv2UXPGxE1",
        "outputId": "ef6a67c1-dae9-4ce6-dc97-adfb9ad3a679"
      },
      "source": [
        "df1[460:461]"
      ],
      "execution_count": null,
      "outputs": [
        {
          "output_type": "execute_result",
          "data": {
            "text/html": [
              "<div>\n",
              "<style scoped>\n",
              "    .dataframe tbody tr th:only-of-type {\n",
              "        vertical-align: middle;\n",
              "    }\n",
              "\n",
              "    .dataframe tbody tr th {\n",
              "        vertical-align: top;\n",
              "    }\n",
              "\n",
              "    .dataframe thead th {\n",
              "        text-align: right;\n",
              "    }\n",
              "</style>\n",
              "<table border=\"1\" class=\"dataframe\">\n",
              "  <thead>\n",
              "    <tr style=\"text-align: right;\">\n",
              "      <th></th>\n",
              "      <th>Restaurant</th>\n",
              "      <th>Adresse</th>\n",
              "      <th>Rank</th>\n",
              "      <th>Date</th>\n",
              "      <th>Tittle</th>\n",
              "      <th>Review</th>\n",
              "      <th>Grade</th>\n",
              "      <th>Username</th>\n",
              "      <th>Price</th>\n",
              "      <th>Style</th>\n",
              "    </tr>\n",
              "  </thead>\n",
              "  <tbody>\n",
              "    <tr>\n",
              "      <th>460</th>\n",
              "      <td>Bokan 37 Restaurant</td>\n",
              "      <td>Floor 37-39, 40 Marsh Wall</td>\n",
              "      <td>#853</td>\n",
              "      <td>2017-04-12</td>\n",
              "      <td>“Great view but slow motion service ”\\n</td>\n",
              "      <td>I just had drinks, which were ok. The view is ...</td>\n",
              "      <td>3</td>\n",
              "      <td>haibane</td>\n",
              "      <td>Indulge and dine amongst industrial dockyard ...</td>\n",
              "      <td>[]</td>\n",
              "    </tr>\n",
              "  </tbody>\n",
              "</table>\n",
              "</div>"
            ],
            "text/plain": [
              "                Restaurant  ... Style\n",
              "460   Bokan 37 Restaurant   ...    []\n",
              "\n",
              "[1 rows x 10 columns]"
            ]
          },
          "metadata": {
            "tags": []
          },
          "execution_count": 199
        }
      ]
    },
    {
      "cell_type": "code",
      "metadata": {
        "colab": {
          "base_uri": "https://localhost:8080/"
        },
        "id": "x7cW2hl2Yzaa",
        "outputId": "70ee7628-0226-4009-b037-1f77a0631444"
      },
      "source": [
        "#We replace k by the sentence we are interessted in \n",
        "k = 460\n",
        "\n",
        "phrase0 = X_test[k].tolist()\n",
        "phrase0 = [[x for x in test if x!=0] for test in phrase0]\n",
        "phrase0 = [x for x in phrase0 if x]\n",
        "phrase0_transformed = [[reverse_word_map[k] for k in phrase] for phrase in phrase0]\n",
        "\n",
        "#Let's have a look to the full review \n",
        "[' '.join(x) for x in phrase0_transformed] "
      ],
      "execution_count": null,
      "outputs": [
        {
          "output_type": "execute_result",
          "data": {
            "text/plain": [
              "['i just had drinks, which were ok.',\n",
              " 'the view is great and the venue has a modern \"steam punk\" vibe.',\n",
              " 'the service is so slow in almost unbelievable... even when it is not crowded.',\n",
              " \"good place if you are not in a rush and you don't want to drink much.\"]"
            ]
          },
          "metadata": {
            "tags": []
          },
          "execution_count": 191
        }
      ]
    },
    {
      "cell_type": "code",
      "metadata": {
        "colab": {
          "base_uri": "https://localhost:8080/",
          "height": 475
        },
        "id": "rdXFrHrAXgRj",
        "outputId": "fc772ad4-ba6a-490a-8f69-d647738a533e"
      },
      "source": [
        "#Sentence analysis\n",
        "\n",
        "idx_phr = ['phrase '+ str(x+1) for x in range(10)]\n",
        "\n",
        "poids_phr = attention_weights2[k].numpy().squeeze()\n",
        "zipped_phr = [list(t) for t in zip(idx_phr, poids_phr)]\n",
        "\n",
        "plt.xticks(rotation='vertical')\n",
        "plt.bar(idx_phr, poids_phr)\n",
        "\n",
        "zipped_phr"
      ],
      "execution_count": null,
      "outputs": [
        {
          "output_type": "execute_result",
          "data": {
            "text/plain": [
              "[['phrase 1', 0.016141387],\n",
              " ['phrase 2', 0.12333113],\n",
              " ['phrase 3', 0.8564205],\n",
              " ['phrase 4', 0.0019625528],\n",
              " ['phrase 5', 0.00038440694],\n",
              " ['phrase 6', 0.0004174901],\n",
              " ['phrase 7', 0.0004430987],\n",
              " ['phrase 8', 0.0004493013],\n",
              " ['phrase 9', 0.00043120337],\n",
              " ['phrase 10', 1.8919502e-05]]"
            ]
          },
          "metadata": {
            "tags": []
          },
          "execution_count": 201
        },
        {
          "output_type": "display_data",
          "data": {
            "image/png": "[encoded data removed]",
            "text/plain": [
              "<Figure size 432x288 with 1 Axes>"
            ]
          },
          "metadata": {
            "tags": [],
            "needs_background": "light"
          }
        }
      ]
    },
    {
      "cell_type": "code",
      "metadata": {
        "colab": {
          "base_uri": "https://localhost:8080/",
          "height": 569
        },
        "id": "AJHBk52JXuHg",
        "outputId": "c7d43167-e49c-410a-d6fd-2eeed3587a06"
      },
      "source": [
        "#word analysis\n",
        "\n",
        "#We can also change the precise sentence to analyse\n",
        "sentence_nb = 2\n",
        "\n",
        "phrase0 = X_test[k].tolist()\n",
        "phrase0 = [[x for x in test if x!=0] for test in phrase0]\n",
        "phrase0 = [x for x in phrase0 if x]\n",
        "phrase0_transformed = [[reverse_word_map[k] for k in phrase] for phrase in phrase0]\n",
        "\n",
        "\n",
        "poids0 = attention_weights[k][sentence_nb].numpy().squeeze()\n",
        "poids0 = np.round(poids0, 4)\n",
        "\n",
        "long = len(phrase0_transformed[sentence_nb])\n",
        "zipped = [list(t) for t in zip(poids0[:long], phrase0_transformed[sentence_nb])]\n",
        "\n",
        "plt.xticks(rotation='vertical')\n",
        "plt.bar(phrase0_transformed[sentence_nb], poids0[:long])\n",
        "\n",
        "zipped.sort(key=lambda x: x[0], reverse=True)\n",
        "zipped"
      ],
      "execution_count": null,
      "outputs": [
        {
          "output_type": "execute_result",
          "data": {
            "text/plain": [
              "[[0.6749, 'slow'],\n",
              " [0.0982, 'so'],\n",
              " [0.0953, 'unbelievable...'],\n",
              " [0.0839, 'almost'],\n",
              " [0.0298, 'is'],\n",
              " [0.0071, 'service'],\n",
              " [0.0043, 'in'],\n",
              " [0.0021, 'not'],\n",
              " [0.0008, 'is'],\n",
              " [0.0007, 'the'],\n",
              " [0.0004, 'when'],\n",
              " [0.0004, 'it'],\n",
              " [0.0004, 'crowded.'],\n",
              " [0.0003, 'even']]"
            ]
          },
          "metadata": {
            "tags": []
          },
          "execution_count": 200
        },
        {
          "output_type": "display_data",
          "data": {
            "image/png": "[encoded data removed]",
            "text/plain": [
              "<Figure size 432x288 with 1 Axes>"
            ]
          },
          "metadata": {
            "tags": [],
            "needs_background": "light"
          }
        }
      ]
    },
    {
      "cell_type": "markdown",
      "metadata": {
        "id": "_HfXTldAuM3m"
      },
      "source": [
        "Thanks to those nice barplots, we can have a good interpretation of the most important sentences in the review and the most important words in each sentence.\n",
        "\n",
        "For this precise example we can see that the 4th sentence (3rd according to our notation), is the most important according to our model. Indeed, when we have a look at it we can see several very positive adjectif. And we have a closer look to the world in it, the world that give the most information seems to the the positive adjectives. "
      ]
    }
  ]
}